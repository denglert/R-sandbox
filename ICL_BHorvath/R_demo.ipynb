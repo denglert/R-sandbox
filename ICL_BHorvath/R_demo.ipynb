{
 "cells": [
  {
   "cell_type": "markdown",
   "metadata": {},
   "source": [
    "# This notebook runs in R"
   ]
  },
  {
   "cell_type": "code",
   "execution_count": 1,
   "metadata": {},
   "outputs": [],
   "source": [
    "data<-read.csv('UStreasury.csv',header=T)"
   ]
  },
  {
   "cell_type": "code",
   "execution_count": 2,
   "metadata": {
    "scrolled": true
   },
   "outputs": [
    {
     "data": {
      "text/html": [
       "<table>\n",
       "<thead><tr><th scope=col>X10Y</th><th scope=col>X7Y</th><th scope=col>X5Y</th><th scope=col>X3Y</th><th scope=col>X2Y</th><th scope=col>X1Y</th></tr></thead>\n",
       "<tbody>\n",
       "\t<tr><td>4.07</td><td>3.62</td><td>3.05</td><td>2.22</td><td>1.80</td><td>1.42</td></tr>\n",
       "\t<tr><td>4.05</td><td>3.60</td><td>3.03</td><td>2.20</td><td>1.79</td><td>1.41</td></tr>\n",
       "\t<tr><td>4.09</td><td>3.64</td><td>3.10</td><td>2.26</td><td>1.84</td><td>1.44</td></tr>\n",
       "\t<tr><td>4.04</td><td>3.60</td><td>3.04</td><td>2.19</td><td>1.77</td><td>1.40</td></tr>\n",
       "\t<tr><td>4.00</td><td>3.56</td><td>3.01</td><td>2.14</td><td>1.71</td><td>1.36</td></tr>\n",
       "\t<tr><td>4.19</td><td>3.77</td><td>3.23</td><td>2.33</td><td>1.87</td><td>1.44</td></tr>\n",
       "</tbody>\n",
       "</table>\n"
      ],
      "text/latex": [
       "\\begin{tabular}{r|llllll}\n",
       " X10Y & X7Y & X5Y & X3Y & X2Y & X1Y\\\\\n",
       "\\hline\n",
       "\t 4.07 & 3.62 & 3.05 & 2.22 & 1.80 & 1.42\\\\\n",
       "\t 4.05 & 3.60 & 3.03 & 2.20 & 1.79 & 1.41\\\\\n",
       "\t 4.09 & 3.64 & 3.10 & 2.26 & 1.84 & 1.44\\\\\n",
       "\t 4.04 & 3.60 & 3.04 & 2.19 & 1.77 & 1.40\\\\\n",
       "\t 4.00 & 3.56 & 3.01 & 2.14 & 1.71 & 1.36\\\\\n",
       "\t 4.19 & 3.77 & 3.23 & 2.33 & 1.87 & 1.44\\\\\n",
       "\\end{tabular}\n"
      ],
      "text/markdown": [
       "\n",
       "X10Y | X7Y | X5Y | X3Y | X2Y | X1Y | \n",
       "|---|---|---|---|---|---|\n",
       "| 4.07 | 3.62 | 3.05 | 2.22 | 1.80 | 1.42 | \n",
       "| 4.05 | 3.60 | 3.03 | 2.20 | 1.79 | 1.41 | \n",
       "| 4.09 | 3.64 | 3.10 | 2.26 | 1.84 | 1.44 | \n",
       "| 4.04 | 3.60 | 3.04 | 2.19 | 1.77 | 1.40 | \n",
       "| 4.00 | 3.56 | 3.01 | 2.14 | 1.71 | 1.36 | \n",
       "| 4.19 | 3.77 | 3.23 | 2.33 | 1.87 | 1.44 | \n",
       "\n",
       "\n"
      ],
      "text/plain": [
       "  X10Y X7Y  X5Y  X3Y  X2Y  X1Y \n",
       "1 4.07 3.62 3.05 2.22 1.80 1.42\n",
       "2 4.05 3.60 3.03 2.20 1.79 1.41\n",
       "3 4.09 3.64 3.10 2.26 1.84 1.44\n",
       "4 4.04 3.60 3.04 2.19 1.77 1.40\n",
       "5 4.00 3.56 3.01 2.14 1.71 1.36\n",
       "6 4.19 3.77 3.23 2.33 1.87 1.44"
      ]
     },
     "metadata": {},
     "output_type": "display_data"
    }
   ],
   "source": [
    "head(data)"
   ]
  },
  {
   "cell_type": "markdown",
   "metadata": {},
   "source": [
    "Now, we perform a linear regression $y=\\alpha x+\\epsilon$"
   ]
  },
  {
   "cell_type": "code",
   "execution_count": 3,
   "metadata": {},
   "outputs": [
    {
     "name": "stderr",
     "output_type": "stream",
     "text": [
      "Warning message in model.matrix.default(mt, mf, contrasts):\n",
      "“the response appeared on the right-hand side and was dropped”Warning message in model.matrix.default(mt, mf, contrasts):\n",
      "“problem with term 1 in model.matrix: no columns are assigned”"
     ]
    }
   ],
   "source": [
    "model<-lm(data[,1]~data[,1])"
   ]
  },
  {
   "cell_type": "code",
   "execution_count": 4,
   "metadata": {},
   "outputs": [
    {
     "data": {
      "text/plain": [
       "\n",
       "Call:\n",
       "lm(formula = data[, 1] ~ data[, 1])\n",
       "\n",
       "Residuals:\n",
       "    Min      1Q  Median      3Q     Max \n",
       "-2.1967 -0.6267  0.2233  0.7533  1.6333 \n",
       "\n",
       "Coefficients:\n",
       "            Estimate Std. Error t value Pr(>|t|)    \n",
       "(Intercept)  3.62671    0.01935   187.4   <2e-16 ***\n",
       "---\n",
       "Signif. codes:  0 ‘***’ 0.001 ‘**’ 0.01 ‘*’ 0.05 ‘.’ 0.1 ‘ ’ 1\n",
       "\n",
       "Residual standard error: 0.9813 on 2571 degrees of freedom\n",
       "  (109 observations deleted due to missingness)\n"
      ]
     },
     "metadata": {},
     "output_type": "display_data"
    }
   ],
   "source": [
    "summary(model)"
   ]
  },
  {
   "cell_type": "code",
   "execution_count": null,
   "metadata": {
    "collapsed": true
   },
   "outputs": [],
   "source": []
  },
  {
   "cell_type": "code",
   "execution_count": null,
   "metadata": {
    "collapsed": true
   },
   "outputs": [],
   "source": []
  }
 ],
 "metadata": {
  "anaconda-cloud": {},
  "kernelspec": {
   "display_name": "R",
   "language": "R",
   "name": "ir"
  },
  "language_info": {
   "codemirror_mode": "r",
   "file_extension": ".r",
   "mimetype": "text/x-r-source",
   "name": "R",
   "pygments_lexer": "r",
   "version": "3.4.1"
  }
 },
 "nbformat": 4,
 "nbformat_minor": 1
}
