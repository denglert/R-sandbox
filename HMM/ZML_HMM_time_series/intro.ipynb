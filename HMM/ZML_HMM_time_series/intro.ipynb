{
 "cells": [
  {
   "cell_type": "markdown",
   "metadata": {},
   "source": [
    "# Hidden Markov Model (HMM)"
   ]
  },
  {
   "cell_type": "markdown",
   "metadata": {},
   "source": [
    "**Definition:**\n",
    "\n",
    "Hidden Markov models (HMMs) are models in which the distribution that generates an observation depends on the state of an underlying and unobserved Markov process."
   ]
  },
  {
   "cell_type": "markdown",
   "metadata": {},
   "source": [
    "## Properties\n",
    "\n",
    "- They provide flexible general-purpose models for univariate and multivariate time series, especially for discrete-valued series including categorical series and series of counts.\n",
    "- simplicity\n",
    "- general mathematical tractability\n",
    "- specifically the fact that the likelihood is relatively straightforward to compute"
   ]
  },
  {
   "cell_type": "markdown",
   "metadata": {},
   "source": [
    "## Applications\n",
    "\n",
    "- signal-processing\n",
    "    - especially in the context of automatic speech recognition,\n",
    "- all kinds of recognition – face, gesture, handwriting, signature;\n",
    "- bioinformatics - biological sequence analysis;\n",
    "- environment - rainfall, earthquakes, wind direction;\n",
    "- finance - series of daily return\n",
    "- ecology - animal behaviour"
   ]
  },
  {
   "cell_type": "markdown",
   "metadata": {},
   "source": [
    "## Aims\n",
    "\n",
    "- illustrate how HMMs can be used as general-purpose models for time series"
   ]
  }
 ],
 "metadata": {
  "kernelspec": {
   "display_name": "R",
   "language": "R",
   "name": "ir"
  },
  "language_info": {
   "codemirror_mode": "r",
   "file_extension": ".r",
   "mimetype": "text/x-r-source",
   "name": "R",
   "pygments_lexer": "r",
   "version": "3.4.1"
  }
 },
 "nbformat": 4,
 "nbformat_minor": 2
}
