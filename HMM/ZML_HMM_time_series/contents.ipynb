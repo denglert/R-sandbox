{
 "cells": [
  {
   "cell_type": "markdown",
   "metadata": {},
   "source": [
    "# Contents"
   ]
  },
  {
   "cell_type": "markdown",
   "metadata": {},
   "source": [
    "**Basic HMM for illustration**:\n",
    "\n",
    "- Basic in the sense that it is univariate\n",
    "- based on a homogeneous Markov chain\n",
    "- has neither trend nor seasonal variation\n",
    "- observations may be either discrete- or continuous-valued\n",
    "- initially ignore information that may be available on covariates."
   ]
  },
  {
   "cell_type": "markdown",
   "metadata": {},
   "source": [
    "## Part I\n",
    "\n",
    "We focus on the following issues:\n",
    "\n",
    "- parameter estimation (Chapters 3 and 4);\n",
    "- point and interval forecasting (Chapter 5);\n",
    "- decoding, i.e. estimating the sequence of hidden states (Chapter 5);\n",
    "- model selection, model checking and outlier detection (Chapter 6)."
   ]
  },
  {
   "cell_type": "markdown",
   "metadata": {},
   "source": [
    "## Part II\n",
    "\n",
    "Possible extensions of the basic HMM to a wider range of models:\n",
    "- HMMs for series with trend and seasonal variation\n",
    "- methods to include covariate information from other time series\n",
    "- multivariate models of various types\n",
    "- HMM approximations to hidden semi-Markov models and toto models with continuous-valued\n",
    "state process\n",
    "- and HMMs for longitudinal data"
   ]
  },
  {
   "cell_type": "markdown",
   "metadata": {},
   "source": [
    "## Part III\n",
    "\n",
    "- detailed applications of HMMs to time series arising in a variety of subject areas\n",
    "- intended to illustrate the theory covered in Parts I and II\n",
    "- to demonstrate the versatility of HMMs"
   ]
  }
 ],
 "metadata": {
  "kernelspec": {
   "display_name": "R",
   "language": "R",
   "name": "ir"
  },
  "language_info": {
   "codemirror_mode": "r",
   "file_extension": ".r",
   "mimetype": "text/x-r-source",
   "name": "R",
   "pygments_lexer": "r",
   "version": "3.4.1"
  }
 },
 "nbformat": 4,
 "nbformat_minor": 2
}
