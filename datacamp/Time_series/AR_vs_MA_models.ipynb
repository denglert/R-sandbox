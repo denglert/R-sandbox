{
 "cells": [
  {
   "cell_type": "markdown",
   "metadata": {},
   "source": [
    "## Autoregressive model\n",
    "\n",
    "\\begin{equation}\n",
    "    Y_{t} - \\mu\n",
    "    =\n",
    "    \\Phi (Y_{t-1} - \\mu ) + \\epsilon_{t} \n",
    "\\end{equation}\n",
    "\n",
    "or rearranged\n",
    "\n",
    "\\begin{equation}\n",
    "    Y_{t}\n",
    "    =\n",
    "    \\Phi Y_{t-1} + (1- \\Phi) \\mu  + \\epsilon_{t} \n",
    "\\end{equation}\n",
    "\n",
    "**Features:**\n",
    "- only has autocorrelation on 1 lag\n",
    "\n",
    "## Simple moving average model\n",
    "\n",
    "\\begin{equation}\n",
    "    Y_{t}\n",
    "    =\n",
    "    \\mu + \\epsilon_{t} + \\theta \\epsilon_{t-1}\n",
    "\\end{equation}\n",
    "\n",
    "\n",
    "**Features:**\n",
    "- has autocorrelation on many lags"
   ]
  },
  {
   "cell_type": "markdown",
   "metadata": {},
   "source": [
    "## Comparison on inflation data"
   ]
  },
  {
   "cell_type": "code",
   "execution_count": 3,
   "metadata": {},
   "outputs": [],
   "source": [
    "data(Mishkin, package='Ecdat')\n",
    "inflation <- as.ts(Mishkin[,1])\n",
    "inflation_changes <- diff(inflation)"
   ]
  },
  {
   "cell_type": "code",
   "execution_count": 4,
   "metadata": {},
   "outputs": [],
   "source": [
    "inflation_changes_MA_model <- arima(inflation_changes, order=c(0,0,1))\n",
    "inflation_changes_AR_model <- arima(inflation_changes, order=c(1,0,0))"
   ]
  },
  {
   "cell_type": "markdown",
   "metadata": {},
   "source": [
    "### Simple moving average model"
   ]
  },
  {
   "cell_type": "code",
   "execution_count": 5,
   "metadata": {},
   "outputs": [
    {
     "data": {
      "text/plain": [
       "\n",
       "Call:\n",
       "arima(x = inflation_changes, order = c(0, 0, 1))\n",
       "\n",
       "Coefficients:\n",
       "          ma1  intercept\n",
       "      -0.7932     0.0010\n",
       "s.e.   0.0355     0.0281\n",
       "\n",
       "sigma^2 estimated as 8.882:  log likelihood = -1230.85,  aic = 2467.7"
      ]
     },
     "metadata": {},
     "output_type": "display_data"
    }
   ],
   "source": [
    "inflation_changes_MA_model"
   ]
  },
  {
   "cell_type": "code",
   "execution_count": 7,
   "metadata": {},
   "outputs": [
    {
     "data": {
      "text/html": [
       "2467.70327390501"
      ],
      "text/latex": [
       "2467.70327390501"
      ],
      "text/markdown": [
       "2467.70327390501"
      ],
      "text/plain": [
       "[1] 2467.703"
      ]
     },
     "metadata": {},
     "output_type": "display_data"
    }
   ],
   "source": [
    "AIC(inflation_changes_MA_model)"
   ]
  },
  {
   "cell_type": "code",
   "execution_count": 9,
   "metadata": {},
   "outputs": [
    {
     "data": {
      "text/html": [
       "2480.28649007833"
      ],
      "text/latex": [
       "2480.28649007833"
      ],
      "text/markdown": [
       "2480.28649007833"
      ],
      "text/plain": [
       "[1] 2480.286"
      ]
     },
     "metadata": {},
     "output_type": "display_data"
    }
   ],
   "source": [
    "BIC(inflation_changes_MA_model)"
   ]
  },
  {
   "cell_type": "markdown",
   "metadata": {},
   "source": [
    "### Autoregressive model"
   ]
  },
  {
   "cell_type": "code",
   "execution_count": 6,
   "metadata": {},
   "outputs": [
    {
     "data": {
      "text/plain": [
       "\n",
       "Call:\n",
       "arima(x = inflation_changes, order = c(1, 0, 0))\n",
       "\n",
       "Coefficients:\n",
       "          ar1  intercept\n",
       "      -0.3849     0.0038\n",
       "s.e.   0.0420     0.1051\n",
       "\n",
       "sigma^2 estimated as 10.37:  log likelihood = -1268.34,  aic = 2542.68"
      ]
     },
     "metadata": {},
     "output_type": "display_data"
    }
   ],
   "source": [
    "inflation_changes_AR_model"
   ]
  },
  {
   "cell_type": "code",
   "execution_count": 8,
   "metadata": {},
   "outputs": [
    {
     "data": {
      "text/html": [
       "2542.67887015674"
      ],
      "text/latex": [
       "2542.67887015674"
      ],
      "text/markdown": [
       "2542.67887015674"
      ],
      "text/plain": [
       "[1] 2542.679"
      ]
     },
     "metadata": {},
     "output_type": "display_data"
    }
   ],
   "source": [
    "AIC(inflation_changes_AR_model)"
   ]
  },
  {
   "cell_type": "code",
   "execution_count": 10,
   "metadata": {},
   "outputs": [
    {
     "data": {
      "text/html": [
       "2480.28649007833"
      ],
      "text/latex": [
       "2480.28649007833"
      ],
      "text/markdown": [
       "2480.28649007833"
      ],
      "text/plain": [
       "[1] 2480.286"
      ]
     },
     "metadata": {},
     "output_type": "display_data"
    }
   ],
   "source": [
    "BIC(inflation_changes_MA_model)"
   ]
  }
 ],
 "metadata": {
  "kernelspec": {
   "display_name": "R",
   "language": "R",
   "name": "ir"
  },
  "language_info": {
   "codemirror_mode": "r",
   "file_extension": ".r",
   "mimetype": "text/x-r-source",
   "name": "R",
   "pygments_lexer": "r",
   "version": "3.5.0"
  }
 },
 "nbformat": 4,
 "nbformat_minor": 2
}
