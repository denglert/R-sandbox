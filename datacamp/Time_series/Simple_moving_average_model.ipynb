{
 "cells": [
  {
   "cell_type": "markdown",
   "metadata": {},
   "source": [
    "# Simple moving average model"
   ]
  },
  {
   "cell_type": "markdown",
   "metadata": {},
   "source": [
    "\\begin{equation}\n",
    "    Y_{t}\n",
    "    =\n",
    "    \\mu + \\epsilon_{t} + \\theta \\epsilon_{t-1}\n",
    "\\end{equation}\n",
    "\n",
    "where:\n",
    "- $\\epsilon_{t} \\sim \\mathcal{N}(0,\\sigma^{2}_{\\epsilon})$ \n",
    "- $\\mu$ (mean)\n",
    "- $\\theta$ (slope)\n",
    "- $\\sigma^{2}_{\\epsilon}$"
   ]
  },
  {
   "cell_type": "markdown",
   "metadata": {},
   "source": [
    "#### $\\theta=0$ case $\\implies$ $Y_{t}$ is a simple white noise process:\n",
    "\n",
    "\n",
    "\\begin{equation}\n",
    "    Y_{t}\n",
    "    =\n",
    "    \\mu + \\epsilon_{t}\n",
    "\\end{equation}\n",
    "\n",
    "#### $\\theta \\neq 0$ case $\\implies$ $Y_{t}$ depends on the previous noise $\\epsilon_{t-1}$ too (autocorrelation)\n",
    "\n",
    "\\begin{equation}\n",
    "    Y_{t}\n",
    "    =\n",
    "    \\mu + \\epsilon_{t} + \\theta \\epsilon_{t-1}\n",
    "\\end{equation}\n",
    "\n",
    "Only lag 1 autocorrelation $\\neq 0$ for the MA model."
   ]
  },
  {
   "cell_type": "markdown",
   "metadata": {},
   "source": [
    "## Simulating the simple moving average model"
   ]
  },
  {
   "cell_type": "code",
   "execution_count": null,
   "metadata": {},
   "outputs": [],
   "source": [
    "xarima.sim(model = list(ma=0.5), n = 100)"
   ]
  }
 ],
 "metadata": {
  "kernelspec": {
   "display_name": "R",
   "language": "R",
   "name": "ir"
  },
  "language_info": {
   "codemirror_mode": "r",
   "file_extension": ".r",
   "mimetype": "text/x-r-source",
   "name": "R",
   "pygments_lexer": "r",
   "version": "3.5.0"
  }
 },
 "nbformat": 4,
 "nbformat_minor": 2
}
