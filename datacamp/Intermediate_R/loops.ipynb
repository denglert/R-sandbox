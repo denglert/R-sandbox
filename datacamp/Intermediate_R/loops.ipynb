{
 "cells": [
  {
   "cell_type": "markdown",
   "metadata": {},
   "source": [
    "# Loops"
   ]
  },
  {
   "cell_type": "markdown",
   "metadata": {
    "collapsed": true
   },
   "source": [
    "## while loop"
   ]
  },
  {
   "cell_type": "markdown",
   "metadata": {},
   "source": [
    "~~~~\n",
    "while(condition){\n",
    "    expr\n",
    "}\n",
    "~~~~"
   ]
  },
  {
   "cell_type": "code",
   "execution_count": 2,
   "metadata": {},
   "outputs": [
    {
     "name": "stdout",
     "output_type": "stream",
     "text": [
      "[1] \"ctr is set to 1\"\n",
      "[1] \"ctr is set to 2\"\n",
      "[1] \"ctr is set to 3\"\n",
      "[1] \"ctr is set to 4\"\n",
      "[1] \"ctr is set to 5\"\n",
      "[1] \"ctr is set to 6\"\n",
      "[1] \"ctr is set to 7\"\n"
     ]
    }
   ],
   "source": [
    "ctr <- 1\n",
    "while(ctr <= 7){\n",
    "    print(paste(\"ctr is set to\", ctr))\n",
    "    ctr <- ctr + 1\n",
    "}"
   ]
  },
  {
   "cell_type": "markdown",
   "metadata": {},
   "source": [
    "### `break` statement"
   ]
  },
  {
   "cell_type": "code",
   "execution_count": 3,
   "metadata": {},
   "outputs": [
    {
     "name": "stdout",
     "output_type": "stream",
     "text": [
      "[1] \"ctr is set to 1\"\n",
      "[1] \"ctr is set to 2\"\n",
      "[1] \"ctr is set to 3\"\n",
      "[1] \"ctr is set to 4\"\n"
     ]
    }
   ],
   "source": [
    "ctr <- 1\n",
    "while(ctr <= 7){\n",
    "    if(ctr %% 5 ==0){\n",
    "        break\n",
    "    }\n",
    "    print(paste(\"ctr is set to\", ctr))\n",
    "    ctr <- ctr + 1\n",
    "}"
   ]
  },
  {
   "cell_type": "markdown",
   "metadata": {},
   "source": [
    "## for loop"
   ]
  },
  {
   "cell_type": "markdown",
   "metadata": {},
   "source": [
    "~~~~\n",
    "for(var in seq){\n",
    "    expr\n",
    "}\n",
    "~~~~"
   ]
  },
  {
   "cell_type": "markdown",
   "metadata": {},
   "source": [
    "Iterate over elements of a collection"
   ]
  },
  {
   "cell_type": "code",
   "execution_count": 12,
   "metadata": {
    "collapsed": true
   },
   "outputs": [],
   "source": [
    "cities <- c(\"New York\", \"Paris\", \"London\", \"Tokyo\", \"Rio de Janeiro\", \"Cape Town\")"
   ]
  },
  {
   "cell_type": "code",
   "execution_count": 13,
   "metadata": {},
   "outputs": [
    {
     "data": {
      "text/html": [
       "<ol class=list-inline>\n",
       "\t<li>'New York'</li>\n",
       "\t<li>'Paris'</li>\n",
       "\t<li>'London'</li>\n",
       "\t<li>'Tokyo'</li>\n",
       "\t<li>'Rio de Janeiro'</li>\n",
       "\t<li>'Cape Town'</li>\n",
       "</ol>\n"
      ],
      "text/latex": [
       "\\begin{enumerate*}\n",
       "\\item 'New York'\n",
       "\\item 'Paris'\n",
       "\\item 'London'\n",
       "\\item 'Tokyo'\n",
       "\\item 'Rio de Janeiro'\n",
       "\\item 'Cape Town'\n",
       "\\end{enumerate*}\n"
      ],
      "text/markdown": [
       "1. 'New York'\n",
       "2. 'Paris'\n",
       "3. 'London'\n",
       "4. 'Tokyo'\n",
       "5. 'Rio de Janeiro'\n",
       "6. 'Cape Town'\n",
       "\n",
       "\n"
      ],
      "text/plain": [
       "[1] \"New York\"       \"Paris\"          \"London\"         \"Tokyo\"         \n",
       "[5] \"Rio de Janeiro\" \"Cape Town\"     "
      ]
     },
     "metadata": {},
     "output_type": "display_data"
    }
   ],
   "source": [
    "cities"
   ]
  },
  {
   "cell_type": "code",
   "execution_count": 14,
   "metadata": {},
   "outputs": [
    {
     "data": {
      "text/html": [
       "'character'"
      ],
      "text/latex": [
       "'character'"
      ],
      "text/markdown": [
       "'character'"
      ],
      "text/plain": [
       "[1] \"character\""
      ]
     },
     "metadata": {},
     "output_type": "display_data"
    }
   ],
   "source": [
    "typeof(cities)"
   ]
  },
  {
   "cell_type": "code",
   "execution_count": 15,
   "metadata": {},
   "outputs": [
    {
     "data": {
      "text/html": [
       "'character'"
      ],
      "text/latex": [
       "'character'"
      ],
      "text/markdown": [
       "'character'"
      ],
      "text/plain": [
       "[1] \"character\""
      ]
     },
     "metadata": {},
     "output_type": "display_data"
    }
   ],
   "source": [
    "class(cities)"
   ]
  },
  {
   "cell_type": "code",
   "execution_count": 6,
   "metadata": {},
   "outputs": [
    {
     "name": "stdout",
     "output_type": "stream",
     "text": [
      "[1] \"New York\"\n",
      "[1] \"Paris\"\n",
      "[1] \"London\"\n",
      "[1] \"Tokyo\"\n",
      "[1] \"Rio de Janeiro\"\n",
      "[1] \"Cape Town\"\n"
     ]
    }
   ],
   "source": [
    "for(city in cities){\n",
    "    print(city)\n",
    "}"
   ]
  },
  {
   "cell_type": "markdown",
   "metadata": {},
   "source": [
    "Can also iterate over elements of a list"
   ]
  },
  {
   "cell_type": "code",
   "execution_count": 7,
   "metadata": {
    "collapsed": true
   },
   "outputs": [],
   "source": [
    "cities_list <- list(\"New York\", \"Paris\", \"London\", \"Tokyo\", \"Rio de Janeiro\", \"Cape Town\")"
   ]
  },
  {
   "cell_type": "code",
   "execution_count": 17,
   "metadata": {},
   "outputs": [
    {
     "data": {
      "text/html": [
       "'list'"
      ],
      "text/latex": [
       "'list'"
      ],
      "text/markdown": [
       "'list'"
      ],
      "text/plain": [
       "[1] \"list\""
      ]
     },
     "metadata": {},
     "output_type": "display_data"
    }
   ],
   "source": [
    "class(cities_list)"
   ]
  },
  {
   "cell_type": "code",
   "execution_count": 16,
   "metadata": {},
   "outputs": [
    {
     "data": {
      "text/html": [
       "'list'"
      ],
      "text/latex": [
       "'list'"
      ],
      "text/markdown": [
       "'list'"
      ],
      "text/plain": [
       "[1] \"list\""
      ]
     },
     "metadata": {},
     "output_type": "display_data"
    }
   ],
   "source": [
    "typeof(cities_list)"
   ]
  },
  {
   "cell_type": "code",
   "execution_count": 8,
   "metadata": {},
   "outputs": [
    {
     "name": "stdout",
     "output_type": "stream",
     "text": [
      "[1] \"New York\"\n",
      "[1] \"Paris\"\n",
      "[1] \"London\"\n",
      "[1] \"Tokyo\"\n",
      "[1] \"Rio de Janeiro\"\n",
      "[1] \"Cape Town\"\n"
     ]
    }
   ],
   "source": [
    "for(city in cities_list){\n",
    "    print(city)\n",
    "}"
   ]
  },
  {
   "cell_type": "code",
   "execution_count": 18,
   "metadata": {},
   "outputs": [
    {
     "name": "stdout",
     "output_type": "stream",
     "text": [
      "[1] \"New York\"\n",
      "[1] \"Paris\"\n",
      "[1] \"Tokyo\"\n",
      "[1] \"Rio de Janeiro\"\n",
      "[1] \"Cape Town\"\n"
     ]
    }
   ],
   "source": [
    "for(city in cities_list){\n",
    "    if(nchar(city) == 6){\n",
    "        next\n",
    "    }\n",
    "    print(city)\n",
    "}"
   ]
  },
  {
   "cell_type": "code",
   "execution_count": 19,
   "metadata": {},
   "outputs": [
    {
     "name": "stdout",
     "output_type": "stream",
     "text": [
      "[1] \"New York\"\n",
      "[1] \"Paris\"\n",
      "[1] \"London\"\n",
      "[1] \"Tokyo\"\n",
      "[1] \"Rio de Janeiro\"\n",
      "[1] \"Cape Town\"\n"
     ]
    }
   ],
   "source": [
    "for(i in 1:length(cities)){\n",
    "    print(cities[i])\n",
    "}"
   ]
  },
  {
   "cell_type": "code",
   "execution_count": null,
   "metadata": {
    "collapsed": true
   },
   "outputs": [],
   "source": []
  }
 ],
 "metadata": {
  "kernelspec": {
   "display_name": "R",
   "language": "R",
   "name": "ir"
  },
  "language_info": {
   "codemirror_mode": "r",
   "file_extension": ".r",
   "mimetype": "text/x-r-source",
   "name": "R",
   "pygments_lexer": "r",
   "version": "3.4.1"
  }
 },
 "nbformat": 4,
 "nbformat_minor": 2
}
