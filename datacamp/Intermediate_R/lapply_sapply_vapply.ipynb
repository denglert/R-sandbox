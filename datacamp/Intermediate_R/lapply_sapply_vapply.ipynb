{
 "cells": [
  {
   "cell_type": "markdown",
   "metadata": {},
   "source": [
    "# `lapply()`, `sapply()` and `vapply()`"
   ]
  },
  {
   "cell_type": "markdown",
   "metadata": {},
   "source": [
    "## `lapply()`"
   ]
  },
  {
   "cell_type": "markdown",
   "metadata": {},
   "source": [
    "- `lapply` returns a list\n",
    "\n",
    "The vectorized function may return different variable types, therefore list is necessary to store heterogeneous content"
   ]
  },
  {
   "cell_type": "code",
   "execution_count": 1,
   "metadata": {
    "collapsed": true
   },
   "outputs": [],
   "source": [
    "nyc <- list(pop=8405837,\n",
    "            boroughs = c(\"Manhattan\", \"Bronx\", \"Brooklyn\"),\n",
    "            capital=FALSE)"
   ]
  },
  {
   "cell_type": "code",
   "execution_count": 2,
   "metadata": {},
   "outputs": [
    {
     "name": "stdout",
     "output_type": "stream",
     "text": [
      "[1] \"numeric\"\n",
      "[1] \"character\"\n",
      "[1] \"logical\"\n"
     ]
    }
   ],
   "source": [
    "for(info in nyc){\n",
    "    print(class(info))\n",
    "}"
   ]
  },
  {
   "cell_type": "code",
   "execution_count": 3,
   "metadata": {},
   "outputs": [
    {
     "data": {
      "text/html": [
       "<dl>\n",
       "\t<dt>$pop</dt>\n",
       "\t\t<dd>'numeric'</dd>\n",
       "\t<dt>$boroughs</dt>\n",
       "\t\t<dd>'character'</dd>\n",
       "\t<dt>$capital</dt>\n",
       "\t\t<dd>'logical'</dd>\n",
       "</dl>\n"
      ],
      "text/latex": [
       "\\begin{description}\n",
       "\\item[\\$pop] 'numeric'\n",
       "\\item[\\$boroughs] 'character'\n",
       "\\item[\\$capital] 'logical'\n",
       "\\end{description}\n"
      ],
      "text/markdown": [
       "$pop\n",
       ":   'numeric'\n",
       "$boroughs\n",
       ":   'character'\n",
       "$capital\n",
       ":   'logical'\n",
       "\n",
       "\n"
      ],
      "text/plain": [
       "$pop\n",
       "[1] \"numeric\"\n",
       "\n",
       "$boroughs\n",
       "[1] \"character\"\n",
       "\n",
       "$capital\n",
       "[1] \"logical\"\n"
      ]
     },
     "metadata": {},
     "output_type": "display_data"
    }
   ],
   "source": [
    "lapply(nyc, class)"
   ]
  },
  {
   "cell_type": "code",
   "execution_count": 4,
   "metadata": {
    "collapsed": true
   },
   "outputs": [],
   "source": [
    "cities <- c(\"New York\", \"Paris\", \"London\", \"Tokyo\", \"Rio de Janeiro\", \"Cape Town\")"
   ]
  },
  {
   "cell_type": "code",
   "execution_count": 5,
   "metadata": {},
   "outputs": [
    {
     "data": {
      "text/html": [
       "<ol>\n",
       "\t<li>8</li>\n",
       "\t<li>5</li>\n",
       "\t<li>6</li>\n",
       "\t<li>5</li>\n",
       "\t<li>14</li>\n",
       "\t<li>9</li>\n",
       "</ol>\n"
      ],
      "text/latex": [
       "\\begin{enumerate}\n",
       "\\item 8\n",
       "\\item 5\n",
       "\\item 6\n",
       "\\item 5\n",
       "\\item 14\n",
       "\\item 9\n",
       "\\end{enumerate}\n"
      ],
      "text/markdown": [
       "1. 8\n",
       "2. 5\n",
       "3. 6\n",
       "4. 5\n",
       "5. 14\n",
       "6. 9\n",
       "\n",
       "\n"
      ],
      "text/plain": [
       "[[1]]\n",
       "[1] 8\n",
       "\n",
       "[[2]]\n",
       "[1] 5\n",
       "\n",
       "[[3]]\n",
       "[1] 6\n",
       "\n",
       "[[4]]\n",
       "[1] 5\n",
       "\n",
       "[[5]]\n",
       "[1] 14\n",
       "\n",
       "[[6]]\n",
       "[1] 9\n"
      ]
     },
     "metadata": {},
     "output_type": "display_data"
    }
   ],
   "source": [
    "lapply(cities, nchar)"
   ]
  },
  {
   "cell_type": "markdown",
   "metadata": {},
   "source": [
    "### `lapply` on custom functions"
   ]
  },
  {
   "cell_type": "code",
   "execution_count": 9,
   "metadata": {
    "collapsed": true
   },
   "outputs": [],
   "source": [
    "a <- list(2.3, 4.5, 3.2, 12.1)"
   ]
  },
  {
   "cell_type": "code",
   "execution_count": 16,
   "metadata": {
    "collapsed": true
   },
   "outputs": [],
   "source": [
    "multiply <- function(x, factor=2){\n",
    "    x*factor\n",
    "}"
   ]
  },
  {
   "cell_type": "code",
   "execution_count": 19,
   "metadata": {},
   "outputs": [
    {
     "data": {
      "text/html": [
       "<ol class=list-inline>\n",
       "\t<li>4.6</li>\n",
       "\t<li>9</li>\n",
       "\t<li>6.4</li>\n",
       "\t<li>24.2</li>\n",
       "</ol>\n"
      ],
      "text/latex": [
       "\\begin{enumerate*}\n",
       "\\item 4.6\n",
       "\\item 9\n",
       "\\item 6.4\n",
       "\\item 24.2\n",
       "\\end{enumerate*}\n"
      ],
      "text/markdown": [
       "1. 4.6\n",
       "2. 9\n",
       "3. 6.4\n",
       "4. 24.2\n",
       "\n",
       "\n"
      ],
      "text/plain": [
       "[1]  4.6  9.0  6.4 24.2"
      ]
     },
     "metadata": {},
     "output_type": "display_data"
    }
   ],
   "source": [
    "unlist(lapply(a, multiply))"
   ]
  },
  {
   "cell_type": "code",
   "execution_count": 21,
   "metadata": {},
   "outputs": [
    {
     "data": {
      "text/html": [
       "<ol class=list-inline>\n",
       "\t<li>6.9</li>\n",
       "\t<li>13.5</li>\n",
       "\t<li>9.6</li>\n",
       "\t<li>36.3</li>\n",
       "</ol>\n"
      ],
      "text/latex": [
       "\\begin{enumerate*}\n",
       "\\item 6.9\n",
       "\\item 13.5\n",
       "\\item 9.6\n",
       "\\item 36.3\n",
       "\\end{enumerate*}\n"
      ],
      "text/markdown": [
       "1. 6.9\n",
       "2. 13.5\n",
       "3. 9.6\n",
       "4. 36.3\n",
       "\n",
       "\n"
      ],
      "text/plain": [
       "[1]  6.9 13.5  9.6 36.3"
      ]
     },
     "metadata": {},
     "output_type": "display_data"
    }
   ],
   "source": [
    "unlist(lapply(a, multiply, factor=3))"
   ]
  },
  {
   "cell_type": "code",
   "execution_count": 9,
   "metadata": {
    "collapsed": true
   },
   "outputs": [],
   "source": [
    "pioneers <- c(\"GAUSS:1777\", \"BAYES:1702\", \"PASCAL:1623\", \"PEARSON:1857\")\n",
    "split <- strsplit(pioneers, split = \":\")\n",
    "split_low <- lapply(split, tolower)"
   ]
  },
  {
   "cell_type": "code",
   "execution_count": 16,
   "metadata": {},
   "outputs": [
    {
     "data": {
      "text/html": [
       "<ol>\n",
       "\t<li><ol class=list-inline>\n",
       "\t<li>'gauss'</li>\n",
       "\t<li>'1777'</li>\n",
       "</ol>\n",
       "</li>\n",
       "\t<li><ol class=list-inline>\n",
       "\t<li>'bayes'</li>\n",
       "\t<li>'1702'</li>\n",
       "</ol>\n",
       "</li>\n",
       "\t<li><ol class=list-inline>\n",
       "\t<li>'pascal'</li>\n",
       "\t<li>'1623'</li>\n",
       "</ol>\n",
       "</li>\n",
       "\t<li><ol class=list-inline>\n",
       "\t<li>'pearson'</li>\n",
       "\t<li>'1857'</li>\n",
       "</ol>\n",
       "</li>\n",
       "</ol>\n"
      ],
      "text/latex": [
       "\\begin{enumerate}\n",
       "\\item \\begin{enumerate*}\n",
       "\\item 'gauss'\n",
       "\\item '1777'\n",
       "\\end{enumerate*}\n",
       "\n",
       "\\item \\begin{enumerate*}\n",
       "\\item 'bayes'\n",
       "\\item '1702'\n",
       "\\end{enumerate*}\n",
       "\n",
       "\\item \\begin{enumerate*}\n",
       "\\item 'pascal'\n",
       "\\item '1623'\n",
       "\\end{enumerate*}\n",
       "\n",
       "\\item \\begin{enumerate*}\n",
       "\\item 'pearson'\n",
       "\\item '1857'\n",
       "\\end{enumerate*}\n",
       "\n",
       "\\end{enumerate}\n"
      ],
      "text/markdown": [
       "1. 1. 'gauss'\n",
       "2. '1777'\n",
       "\n",
       "\n",
       "\n",
       "2. 1. 'bayes'\n",
       "2. '1702'\n",
       "\n",
       "\n",
       "\n",
       "3. 1. 'pascal'\n",
       "2. '1623'\n",
       "\n",
       "\n",
       "\n",
       "4. 1. 'pearson'\n",
       "2. '1857'\n",
       "\n",
       "\n",
       "\n",
       "\n",
       "\n"
      ],
      "text/plain": [
       "[[1]]\n",
       "[1] \"gauss\" \"1777\" \n",
       "\n",
       "[[2]]\n",
       "[1] \"bayes\" \"1702\" \n",
       "\n",
       "[[3]]\n",
       "[1] \"pascal\" \"1623\"  \n",
       "\n",
       "[[4]]\n",
       "[1] \"pearson\" \"1857\"   \n"
      ]
     },
     "metadata": {},
     "output_type": "display_data"
    }
   ],
   "source": [
    "split_low"
   ]
  },
  {
   "cell_type": "code",
   "execution_count": 54,
   "metadata": {},
   "outputs": [
    {
     "name": "stdout",
     "output_type": "stream",
     "text": [
      "List of 4\n",
      " $ : chr [1:2] \"gauss\" \"1777\"\n",
      " $ : chr [1:2] \"bayes\" \"1702\"\n",
      " $ : chr [1:2] \"pascal\" \"1623\"\n",
      " $ : chr [1:2] \"pearson\" \"1857\"\n"
     ]
    }
   ],
   "source": [
    "str(split_low)"
   ]
  },
  {
   "cell_type": "code",
   "execution_count": 1,
   "metadata": {
    "collapsed": true
   },
   "outputs": [],
   "source": [
    "l <- list(1, \"a\", TRUE)"
   ]
  },
  {
   "cell_type": "code",
   "execution_count": 2,
   "metadata": {},
   "outputs": [
    {
     "name": "stdout",
     "output_type": "stream",
     "text": [
      "List of 3\n",
      " $ : num 1\n",
      " $ : chr \"a\"\n",
      " $ : logi TRUE\n"
     ]
    }
   ],
   "source": [
    "str(l)"
   ]
  },
  {
   "cell_type": "code",
   "execution_count": 4,
   "metadata": {},
   "outputs": [
    {
     "name": "stdout",
     "output_type": "stream",
     "text": [
      " num 1\n",
      " chr \"a\"\n",
      " logi TRUE\n"
     ]
    }
   ],
   "source": [
    "l_str_applied <- lapply(l, str)"
   ]
  },
  {
   "cell_type": "code",
   "execution_count": 56,
   "metadata": {},
   "outputs": [
    {
     "data": {
      "text/html": [
       "<ol>\n",
       "\t<li>'1777'</li>\n",
       "\t<li>'1702'</li>\n",
       "\t<li>NULL</li>\n",
       "\t<li>NULL</li>\n",
       "</ol>\n"
      ],
      "text/latex": [
       "\\begin{enumerate}\n",
       "\\item '1777'\n",
       "\\item '1702'\n",
       "\\item NULL\n",
       "\\item NULL\n",
       "\\end{enumerate}\n"
      ],
      "text/markdown": [
       "1. '1777'\n",
       "2. '1702'\n",
       "3. NULL\n",
       "4. NULL\n",
       "\n",
       "\n"
      ],
      "text/plain": [
       "[[1]]\n",
       "[1] \"1777\"\n",
       "\n",
       "[[2]]\n",
       "[1] \"1702\"\n",
       "\n",
       "[[3]]\n",
       "NULL\n",
       "\n",
       "[[4]]\n",
       "NULL\n"
      ]
     },
     "metadata": {},
     "output_type": "display_data"
    }
   ],
   "source": [
    "lapply(split_low, function(x) {\n",
    "  if (nchar(x[1]) > 5) {\n",
    "    return(NULL)\n",
    "  } else {\n",
    "    return(x[2])\n",
    "  }\n",
    "})"
   ]
  },
  {
   "cell_type": "code",
   "execution_count": 61,
   "metadata": {},
   "outputs": [
    {
     "data": {
      "text/html": [
       "5"
      ],
      "text/latex": [
       "5"
      ],
      "text/markdown": [
       "5"
      ],
      "text/plain": [
       "[1] 5"
      ]
     },
     "metadata": {},
     "output_type": "display_data"
    }
   ],
   "source": [
    "nchar(split_low[[1]][1])"
   ]
  },
  {
   "cell_type": "markdown",
   "metadata": {},
   "source": [
    "## `sapply` "
   ]
  },
  {
   "cell_type": "markdown",
   "metadata": {},
   "source": [
    "`sapply` = simplified `apply`"
   ]
  },
  {
   "cell_type": "markdown",
   "metadata": {},
   "source": [
    "lapply returns a list of the same length as X, each element of which is the result of applying FUN to the corresponding element of X.\n",
    "\n",
    "sapply is a user-friendly version and wrapper of lapply by default returning a vector, matrix or, if simplify = \"array\", an array if appropriate, by applying simplify2array(). sapply(x, f, simplify = FALSE, USE.NAMES = FALSE) is the same as lapply(x, f)."
   ]
  },
  {
   "cell_type": "code",
   "execution_count": 2,
   "metadata": {
    "collapsed": true
   },
   "outputs": [],
   "source": [
    "?sapply"
   ]
  },
  {
   "cell_type": "code",
   "execution_count": 3,
   "metadata": {
    "collapsed": true
   },
   "outputs": [],
   "source": [
    "cities <- c(\"New York\", \"Paris\", \"London\", \"Tokyo\", \"Rio de Janeiro\", \"Cape Town\")"
   ]
  },
  {
   "cell_type": "markdown",
   "metadata": {},
   "source": [
    "`lapply` vs `sapply`"
   ]
  },
  {
   "cell_type": "code",
   "execution_count": 6,
   "metadata": {
    "collapsed": true
   },
   "outputs": [],
   "source": [
    "l <- lapply(cities, nchar)"
   ]
  },
  {
   "cell_type": "code",
   "execution_count": 16,
   "metadata": {},
   "outputs": [],
   "source": [
    "v <- sapply(cities, nchar)\n",
    "v_wo_names <- sapply(cities, nchar, USE.NAMES=FALSE)"
   ]
  },
  {
   "cell_type": "code",
   "execution_count": 10,
   "metadata": {},
   "outputs": [
    {
     "data": {
      "text/html": [
       "'list'"
      ],
      "text/latex": [
       "'list'"
      ],
      "text/markdown": [
       "'list'"
      ],
      "text/plain": [
       "[1] \"list\""
      ]
     },
     "metadata": {},
     "output_type": "display_data"
    }
   ],
   "source": [
    "class(l)"
   ]
  },
  {
   "cell_type": "code",
   "execution_count": 7,
   "metadata": {},
   "outputs": [
    {
     "data": {
      "text/html": [
       "<ol>\n",
       "\t<li>8</li>\n",
       "\t<li>5</li>\n",
       "\t<li>6</li>\n",
       "\t<li>5</li>\n",
       "\t<li>14</li>\n",
       "\t<li>9</li>\n",
       "</ol>\n"
      ],
      "text/latex": [
       "\\begin{enumerate}\n",
       "\\item 8\n",
       "\\item 5\n",
       "\\item 6\n",
       "\\item 5\n",
       "\\item 14\n",
       "\\item 9\n",
       "\\end{enumerate}\n"
      ],
      "text/markdown": [
       "1. 8\n",
       "2. 5\n",
       "3. 6\n",
       "4. 5\n",
       "5. 14\n",
       "6. 9\n",
       "\n",
       "\n"
      ],
      "text/plain": [
       "[[1]]\n",
       "[1] 8\n",
       "\n",
       "[[2]]\n",
       "[1] 5\n",
       "\n",
       "[[3]]\n",
       "[1] 6\n",
       "\n",
       "[[4]]\n",
       "[1] 5\n",
       "\n",
       "[[5]]\n",
       "[1] 14\n",
       "\n",
       "[[6]]\n",
       "[1] 9\n"
      ]
     },
     "metadata": {},
     "output_type": "display_data"
    }
   ],
   "source": [
    "l"
   ]
  },
  {
   "cell_type": "code",
   "execution_count": 13,
   "metadata": {},
   "outputs": [],
   "source": [
    "v_from_l <- unlist(l)"
   ]
  },
  {
   "cell_type": "code",
   "execution_count": 17,
   "metadata": {},
   "outputs": [
    {
     "data": {
      "text/html": [
       "<ol class=list-inline>\n",
       "\t<li>8</li>\n",
       "\t<li>5</li>\n",
       "\t<li>6</li>\n",
       "\t<li>5</li>\n",
       "\t<li>14</li>\n",
       "\t<li>9</li>\n",
       "</ol>\n"
      ],
      "text/latex": [
       "\\begin{enumerate*}\n",
       "\\item 8\n",
       "\\item 5\n",
       "\\item 6\n",
       "\\item 5\n",
       "\\item 14\n",
       "\\item 9\n",
       "\\end{enumerate*}\n"
      ],
      "text/markdown": [
       "1. 8\n",
       "2. 5\n",
       "3. 6\n",
       "4. 5\n",
       "5. 14\n",
       "6. 9\n",
       "\n",
       "\n"
      ],
      "text/plain": [
       "[1]  8  5  6  5 14  9"
      ]
     },
     "metadata": {},
     "output_type": "display_data"
    }
   ],
   "source": [
    "v_wo_names"
   ]
  },
  {
   "cell_type": "code",
   "execution_count": 14,
   "metadata": {},
   "outputs": [
    {
     "data": {
      "text/html": [
       "'integer'"
      ],
      "text/latex": [
       "'integer'"
      ],
      "text/markdown": [
       "'integer'"
      ],
      "text/plain": [
       "[1] \"integer\""
      ]
     },
     "metadata": {},
     "output_type": "display_data"
    }
   ],
   "source": [
    "class(v)"
   ]
  },
  {
   "cell_type": "code",
   "execution_count": 15,
   "metadata": {},
   "outputs": [
    {
     "data": {
      "text/html": [
       "<dl class=dl-horizontal>\n",
       "\t<dt>New York</dt>\n",
       "\t\t<dd>8</dd>\n",
       "\t<dt>Paris</dt>\n",
       "\t\t<dd>5</dd>\n",
       "\t<dt>London</dt>\n",
       "\t\t<dd>6</dd>\n",
       "\t<dt>Tokyo</dt>\n",
       "\t\t<dd>5</dd>\n",
       "\t<dt>Rio de Janeiro</dt>\n",
       "\t\t<dd>14</dd>\n",
       "\t<dt>Cape Town</dt>\n",
       "\t\t<dd>9</dd>\n",
       "</dl>\n"
      ],
      "text/latex": [
       "\\begin{description*}\n",
       "\\item[New York] 8\n",
       "\\item[Paris] 5\n",
       "\\item[London] 6\n",
       "\\item[Tokyo] 5\n",
       "\\item[Rio de Janeiro] 14\n",
       "\\item[Cape Town] 9\n",
       "\\end{description*}\n"
      ],
      "text/markdown": [
       "New York\n",
       ":   8Paris\n",
       ":   5London\n",
       ":   6Tokyo\n",
       ":   5Rio de Janeiro\n",
       ":   14Cape Town\n",
       ":   9\n",
       "\n"
      ],
      "text/plain": [
       "      New York          Paris         London          Tokyo Rio de Janeiro \n",
       "             8              5              6              5             14 \n",
       "     Cape Town \n",
       "             9 "
      ]
     },
     "metadata": {},
     "output_type": "display_data"
    }
   ],
   "source": [
    "v"
   ]
  },
  {
   "cell_type": "markdown",
   "metadata": {},
   "source": [
    "### `sapply()` cannot always \"simplify\" the list to a vector\n",
    "\n",
    "If the length of the output of the applied function changes for different input vectors, `sapply()` is not able to nicely convert the output of `lapply()` to a nicely formatted matrix.\n",
    "\n",
    "Example below"
   ]
  },
  {
   "cell_type": "code",
   "execution_count": 20,
   "metadata": {
    "collapsed": true
   },
   "outputs": [],
   "source": [
    "unique_letter <- function(name){\n",
    "    name <- gsub(\" \", \"\", name)\n",
    "    letters <- strsplit(name, split=\"\")[[1]]\n",
    "    unique(letters)\n",
    "}"
   ]
  },
  {
   "cell_type": "code",
   "execution_count": 23,
   "metadata": {},
   "outputs": [],
   "source": [
    "res_lapply <- lapply(cities, unique_letter)\n",
    "res_sapply <- sapply(cities, unique_letter)"
   ]
  },
  {
   "cell_type": "code",
   "execution_count": 26,
   "metadata": {},
   "outputs": [
    {
     "data": {
      "text/html": [
       "<ol>\n",
       "\t<li><ol class=list-inline>\n",
       "\t<li>'N'</li>\n",
       "\t<li>'e'</li>\n",
       "\t<li>'w'</li>\n",
       "\t<li>'Y'</li>\n",
       "\t<li>'o'</li>\n",
       "\t<li>'r'</li>\n",
       "\t<li>'k'</li>\n",
       "</ol>\n",
       "</li>\n",
       "\t<li><ol class=list-inline>\n",
       "\t<li>'P'</li>\n",
       "\t<li>'a'</li>\n",
       "\t<li>'r'</li>\n",
       "\t<li>'i'</li>\n",
       "\t<li>'s'</li>\n",
       "</ol>\n",
       "</li>\n",
       "\t<li><ol class=list-inline>\n",
       "\t<li>'L'</li>\n",
       "\t<li>'o'</li>\n",
       "\t<li>'n'</li>\n",
       "\t<li>'d'</li>\n",
       "</ol>\n",
       "</li>\n",
       "\t<li><ol class=list-inline>\n",
       "\t<li>'T'</li>\n",
       "\t<li>'o'</li>\n",
       "\t<li>'k'</li>\n",
       "\t<li>'y'</li>\n",
       "</ol>\n",
       "</li>\n",
       "\t<li><ol class=list-inline>\n",
       "\t<li>'R'</li>\n",
       "\t<li>'i'</li>\n",
       "\t<li>'o'</li>\n",
       "\t<li>'d'</li>\n",
       "\t<li>'e'</li>\n",
       "\t<li>'J'</li>\n",
       "\t<li>'a'</li>\n",
       "\t<li>'n'</li>\n",
       "\t<li>'r'</li>\n",
       "</ol>\n",
       "</li>\n",
       "\t<li><ol class=list-inline>\n",
       "\t<li>'C'</li>\n",
       "\t<li>'a'</li>\n",
       "\t<li>'p'</li>\n",
       "\t<li>'e'</li>\n",
       "\t<li>'T'</li>\n",
       "\t<li>'o'</li>\n",
       "\t<li>'w'</li>\n",
       "\t<li>'n'</li>\n",
       "</ol>\n",
       "</li>\n",
       "</ol>\n"
      ],
      "text/latex": [
       "\\begin{enumerate}\n",
       "\\item \\begin{enumerate*}\n",
       "\\item 'N'\n",
       "\\item 'e'\n",
       "\\item 'w'\n",
       "\\item 'Y'\n",
       "\\item 'o'\n",
       "\\item 'r'\n",
       "\\item 'k'\n",
       "\\end{enumerate*}\n",
       "\n",
       "\\item \\begin{enumerate*}\n",
       "\\item 'P'\n",
       "\\item 'a'\n",
       "\\item 'r'\n",
       "\\item 'i'\n",
       "\\item 's'\n",
       "\\end{enumerate*}\n",
       "\n",
       "\\item \\begin{enumerate*}\n",
       "\\item 'L'\n",
       "\\item 'o'\n",
       "\\item 'n'\n",
       "\\item 'd'\n",
       "\\end{enumerate*}\n",
       "\n",
       "\\item \\begin{enumerate*}\n",
       "\\item 'T'\n",
       "\\item 'o'\n",
       "\\item 'k'\n",
       "\\item 'y'\n",
       "\\end{enumerate*}\n",
       "\n",
       "\\item \\begin{enumerate*}\n",
       "\\item 'R'\n",
       "\\item 'i'\n",
       "\\item 'o'\n",
       "\\item 'd'\n",
       "\\item 'e'\n",
       "\\item 'J'\n",
       "\\item 'a'\n",
       "\\item 'n'\n",
       "\\item 'r'\n",
       "\\end{enumerate*}\n",
       "\n",
       "\\item \\begin{enumerate*}\n",
       "\\item 'C'\n",
       "\\item 'a'\n",
       "\\item 'p'\n",
       "\\item 'e'\n",
       "\\item 'T'\n",
       "\\item 'o'\n",
       "\\item 'w'\n",
       "\\item 'n'\n",
       "\\end{enumerate*}\n",
       "\n",
       "\\end{enumerate}\n"
      ],
      "text/markdown": [
       "1. 1. 'N'\n",
       "2. 'e'\n",
       "3. 'w'\n",
       "4. 'Y'\n",
       "5. 'o'\n",
       "6. 'r'\n",
       "7. 'k'\n",
       "\n",
       "\n",
       "\n",
       "2. 1. 'P'\n",
       "2. 'a'\n",
       "3. 'r'\n",
       "4. 'i'\n",
       "5. 's'\n",
       "\n",
       "\n",
       "\n",
       "3. 1. 'L'\n",
       "2. 'o'\n",
       "3. 'n'\n",
       "4. 'd'\n",
       "\n",
       "\n",
       "\n",
       "4. 1. 'T'\n",
       "2. 'o'\n",
       "3. 'k'\n",
       "4. 'y'\n",
       "\n",
       "\n",
       "\n",
       "5. 1. 'R'\n",
       "2. 'i'\n",
       "3. 'o'\n",
       "4. 'd'\n",
       "5. 'e'\n",
       "6. 'J'\n",
       "7. 'a'\n",
       "8. 'n'\n",
       "9. 'r'\n",
       "\n",
       "\n",
       "\n",
       "6. 1. 'C'\n",
       "2. 'a'\n",
       "3. 'p'\n",
       "4. 'e'\n",
       "5. 'T'\n",
       "6. 'o'\n",
       "7. 'w'\n",
       "8. 'n'\n",
       "\n",
       "\n",
       "\n",
       "\n",
       "\n"
      ],
      "text/plain": [
       "[[1]]\n",
       "[1] \"N\" \"e\" \"w\" \"Y\" \"o\" \"r\" \"k\"\n",
       "\n",
       "[[2]]\n",
       "[1] \"P\" \"a\" \"r\" \"i\" \"s\"\n",
       "\n",
       "[[3]]\n",
       "[1] \"L\" \"o\" \"n\" \"d\"\n",
       "\n",
       "[[4]]\n",
       "[1] \"T\" \"o\" \"k\" \"y\"\n",
       "\n",
       "[[5]]\n",
       "[1] \"R\" \"i\" \"o\" \"d\" \"e\" \"J\" \"a\" \"n\" \"r\"\n",
       "\n",
       "[[6]]\n",
       "[1] \"C\" \"a\" \"p\" \"e\" \"T\" \"o\" \"w\" \"n\"\n"
      ]
     },
     "metadata": {},
     "output_type": "display_data"
    }
   ],
   "source": [
    "res_lapply"
   ]
  },
  {
   "cell_type": "code",
   "execution_count": 24,
   "metadata": {},
   "outputs": [
    {
     "data": {
      "text/html": [
       "'list'"
      ],
      "text/latex": [
       "'list'"
      ],
      "text/markdown": [
       "'list'"
      ],
      "text/plain": [
       "[1] \"list\""
      ]
     },
     "metadata": {},
     "output_type": "display_data"
    }
   ],
   "source": [
    "class(res_lapply)"
   ]
  },
  {
   "cell_type": "code",
   "execution_count": 27,
   "metadata": {},
   "outputs": [
    {
     "data": {
      "text/html": [
       "<dl>\n",
       "\t<dt>$`New York`</dt>\n",
       "\t\t<dd><ol class=list-inline>\n",
       "\t<li>'N'</li>\n",
       "\t<li>'e'</li>\n",
       "\t<li>'w'</li>\n",
       "\t<li>'Y'</li>\n",
       "\t<li>'o'</li>\n",
       "\t<li>'r'</li>\n",
       "\t<li>'k'</li>\n",
       "</ol>\n",
       "</dd>\n",
       "\t<dt>$Paris</dt>\n",
       "\t\t<dd><ol class=list-inline>\n",
       "\t<li>'P'</li>\n",
       "\t<li>'a'</li>\n",
       "\t<li>'r'</li>\n",
       "\t<li>'i'</li>\n",
       "\t<li>'s'</li>\n",
       "</ol>\n",
       "</dd>\n",
       "\t<dt>$London</dt>\n",
       "\t\t<dd><ol class=list-inline>\n",
       "\t<li>'L'</li>\n",
       "\t<li>'o'</li>\n",
       "\t<li>'n'</li>\n",
       "\t<li>'d'</li>\n",
       "</ol>\n",
       "</dd>\n",
       "\t<dt>$Tokyo</dt>\n",
       "\t\t<dd><ol class=list-inline>\n",
       "\t<li>'T'</li>\n",
       "\t<li>'o'</li>\n",
       "\t<li>'k'</li>\n",
       "\t<li>'y'</li>\n",
       "</ol>\n",
       "</dd>\n",
       "\t<dt>$`Rio de Janeiro`</dt>\n",
       "\t\t<dd><ol class=list-inline>\n",
       "\t<li>'R'</li>\n",
       "\t<li>'i'</li>\n",
       "\t<li>'o'</li>\n",
       "\t<li>'d'</li>\n",
       "\t<li>'e'</li>\n",
       "\t<li>'J'</li>\n",
       "\t<li>'a'</li>\n",
       "\t<li>'n'</li>\n",
       "\t<li>'r'</li>\n",
       "</ol>\n",
       "</dd>\n",
       "\t<dt>$`Cape Town`</dt>\n",
       "\t\t<dd><ol class=list-inline>\n",
       "\t<li>'C'</li>\n",
       "\t<li>'a'</li>\n",
       "\t<li>'p'</li>\n",
       "\t<li>'e'</li>\n",
       "\t<li>'T'</li>\n",
       "\t<li>'o'</li>\n",
       "\t<li>'w'</li>\n",
       "\t<li>'n'</li>\n",
       "</ol>\n",
       "</dd>\n",
       "</dl>\n"
      ],
      "text/latex": [
       "\\begin{description}\n",
       "\\item[\\$`New York`] \\begin{enumerate*}\n",
       "\\item 'N'\n",
       "\\item 'e'\n",
       "\\item 'w'\n",
       "\\item 'Y'\n",
       "\\item 'o'\n",
       "\\item 'r'\n",
       "\\item 'k'\n",
       "\\end{enumerate*}\n",
       "\n",
       "\\item[\\$Paris] \\begin{enumerate*}\n",
       "\\item 'P'\n",
       "\\item 'a'\n",
       "\\item 'r'\n",
       "\\item 'i'\n",
       "\\item 's'\n",
       "\\end{enumerate*}\n",
       "\n",
       "\\item[\\$London] \\begin{enumerate*}\n",
       "\\item 'L'\n",
       "\\item 'o'\n",
       "\\item 'n'\n",
       "\\item 'd'\n",
       "\\end{enumerate*}\n",
       "\n",
       "\\item[\\$Tokyo] \\begin{enumerate*}\n",
       "\\item 'T'\n",
       "\\item 'o'\n",
       "\\item 'k'\n",
       "\\item 'y'\n",
       "\\end{enumerate*}\n",
       "\n",
       "\\item[\\$`Rio de Janeiro`] \\begin{enumerate*}\n",
       "\\item 'R'\n",
       "\\item 'i'\n",
       "\\item 'o'\n",
       "\\item 'd'\n",
       "\\item 'e'\n",
       "\\item 'J'\n",
       "\\item 'a'\n",
       "\\item 'n'\n",
       "\\item 'r'\n",
       "\\end{enumerate*}\n",
       "\n",
       "\\item[\\$`Cape Town`] \\begin{enumerate*}\n",
       "\\item 'C'\n",
       "\\item 'a'\n",
       "\\item 'p'\n",
       "\\item 'e'\n",
       "\\item 'T'\n",
       "\\item 'o'\n",
       "\\item 'w'\n",
       "\\item 'n'\n",
       "\\end{enumerate*}\n",
       "\n",
       "\\end{description}\n"
      ],
      "text/markdown": [
       "$`New York`\n",
       ":   1. 'N'\n",
       "2. 'e'\n",
       "3. 'w'\n",
       "4. 'Y'\n",
       "5. 'o'\n",
       "6. 'r'\n",
       "7. 'k'\n",
       "\n",
       "\n",
       "\n",
       "$Paris\n",
       ":   1. 'P'\n",
       "2. 'a'\n",
       "3. 'r'\n",
       "4. 'i'\n",
       "5. 's'\n",
       "\n",
       "\n",
       "\n",
       "$London\n",
       ":   1. 'L'\n",
       "2. 'o'\n",
       "3. 'n'\n",
       "4. 'd'\n",
       "\n",
       "\n",
       "\n",
       "$Tokyo\n",
       ":   1. 'T'\n",
       "2. 'o'\n",
       "3. 'k'\n",
       "4. 'y'\n",
       "\n",
       "\n",
       "\n",
       "$`Rio de Janeiro`\n",
       ":   1. 'R'\n",
       "2. 'i'\n",
       "3. 'o'\n",
       "4. 'd'\n",
       "5. 'e'\n",
       "6. 'J'\n",
       "7. 'a'\n",
       "8. 'n'\n",
       "9. 'r'\n",
       "\n",
       "\n",
       "\n",
       "$`Cape Town`\n",
       ":   1. 'C'\n",
       "2. 'a'\n",
       "3. 'p'\n",
       "4. 'e'\n",
       "5. 'T'\n",
       "6. 'o'\n",
       "7. 'w'\n",
       "8. 'n'\n",
       "\n",
       "\n",
       "\n",
       "\n",
       "\n"
      ],
      "text/plain": [
       "$`New York`\n",
       "[1] \"N\" \"e\" \"w\" \"Y\" \"o\" \"r\" \"k\"\n",
       "\n",
       "$Paris\n",
       "[1] \"P\" \"a\" \"r\" \"i\" \"s\"\n",
       "\n",
       "$London\n",
       "[1] \"L\" \"o\" \"n\" \"d\"\n",
       "\n",
       "$Tokyo\n",
       "[1] \"T\" \"o\" \"k\" \"y\"\n",
       "\n",
       "$`Rio de Janeiro`\n",
       "[1] \"R\" \"i\" \"o\" \"d\" \"e\" \"J\" \"a\" \"n\" \"r\"\n",
       "\n",
       "$`Cape Town`\n",
       "[1] \"C\" \"a\" \"p\" \"e\" \"T\" \"o\" \"w\" \"n\"\n"
      ]
     },
     "metadata": {},
     "output_type": "display_data"
    }
   ],
   "source": [
    "res_sapply"
   ]
  },
  {
   "cell_type": "code",
   "execution_count": 25,
   "metadata": {},
   "outputs": [
    {
     "data": {
      "text/html": [
       "'list'"
      ],
      "text/latex": [
       "'list'"
      ],
      "text/markdown": [
       "'list'"
      ],
      "text/plain": [
       "[1] \"list\""
      ]
     },
     "metadata": {},
     "output_type": "display_data"
    }
   ],
   "source": [
    "class(res_sapply)"
   ]
  },
  {
   "cell_type": "markdown",
   "metadata": {},
   "source": [
    "## `vapply()`"
   ]
  },
  {
   "cell_type": "markdown",
   "metadata": {},
   "source": [
    "vapply is similar to sapply, but has a pre-specified type of return value, so it can be safer (and sometimes faster) to use."
   ]
  },
  {
   "cell_type": "code",
   "execution_count": 28,
   "metadata": {
    "collapsed": true
   },
   "outputs": [],
   "source": [
    "?vapply"
   ]
  },
  {
   "cell_type": "code",
   "execution_count": 30,
   "metadata": {
    "collapsed": true
   },
   "outputs": [],
   "source": [
    "cities <- c(\"New York\", \"Paris\", \"London\", \"Tokyo\", \"Rio de Janeiro\", \"Cape Town\")"
   ]
  },
  {
   "cell_type": "code",
   "execution_count": 34,
   "metadata": {
    "collapsed": true
   },
   "outputs": [],
   "source": [
    "first_and_last <- function(name){\n",
    "    name <- gsub(\" \", \"\", name)\n",
    "    letters <- strsplit(name, split=\"\")[[1]]\n",
    "    return(c(first=min(letters), last=max(letters)))\n",
    "}"
   ]
  },
  {
   "cell_type": "code",
   "execution_count": 31,
   "metadata": {},
   "outputs": [
    {
     "data": {
      "text/html": [
       "<dl class=dl-horizontal>\n",
       "\t<dt>New York</dt>\n",
       "\t\t<dd>8</dd>\n",
       "\t<dt>Paris</dt>\n",
       "\t\t<dd>5</dd>\n",
       "\t<dt>London</dt>\n",
       "\t\t<dd>6</dd>\n",
       "\t<dt>Tokyo</dt>\n",
       "\t\t<dd>5</dd>\n",
       "\t<dt>Rio de Janeiro</dt>\n",
       "\t\t<dd>14</dd>\n",
       "\t<dt>Cape Town</dt>\n",
       "\t\t<dd>9</dd>\n",
       "</dl>\n"
      ],
      "text/latex": [
       "\\begin{description*}\n",
       "\\item[New York] 8\n",
       "\\item[Paris] 5\n",
       "\\item[London] 6\n",
       "\\item[Tokyo] 5\n",
       "\\item[Rio de Janeiro] 14\n",
       "\\item[Cape Town] 9\n",
       "\\end{description*}\n"
      ],
      "text/markdown": [
       "New York\n",
       ":   8Paris\n",
       ":   5London\n",
       ":   6Tokyo\n",
       ":   5Rio de Janeiro\n",
       ":   14Cape Town\n",
       ":   9\n",
       "\n"
      ],
      "text/plain": [
       "      New York          Paris         London          Tokyo Rio de Janeiro \n",
       "             8              5              6              5             14 \n",
       "     Cape Town \n",
       "             9 "
      ]
     },
     "metadata": {},
     "output_type": "display_data"
    }
   ],
   "source": [
    "sapply(cities, nchar)"
   ]
  },
  {
   "cell_type": "markdown",
   "metadata": {},
   "source": [
    "Specifying the type of the return value with `FUN.VALUE=numeric(1)`"
   ]
  },
  {
   "cell_type": "code",
   "execution_count": 33,
   "metadata": {},
   "outputs": [
    {
     "data": {
      "text/html": [
       "<dl class=dl-horizontal>\n",
       "\t<dt>New York</dt>\n",
       "\t\t<dd>8</dd>\n",
       "\t<dt>Paris</dt>\n",
       "\t\t<dd>5</dd>\n",
       "\t<dt>London</dt>\n",
       "\t\t<dd>6</dd>\n",
       "\t<dt>Tokyo</dt>\n",
       "\t\t<dd>5</dd>\n",
       "\t<dt>Rio de Janeiro</dt>\n",
       "\t\t<dd>14</dd>\n",
       "\t<dt>Cape Town</dt>\n",
       "\t\t<dd>9</dd>\n",
       "</dl>\n"
      ],
      "text/latex": [
       "\\begin{description*}\n",
       "\\item[New York] 8\n",
       "\\item[Paris] 5\n",
       "\\item[London] 6\n",
       "\\item[Tokyo] 5\n",
       "\\item[Rio de Janeiro] 14\n",
       "\\item[Cape Town] 9\n",
       "\\end{description*}\n"
      ],
      "text/markdown": [
       "New York\n",
       ":   8Paris\n",
       ":   5London\n",
       ":   6Tokyo\n",
       ":   5Rio de Janeiro\n",
       ":   14Cape Town\n",
       ":   9\n",
       "\n"
      ],
      "text/plain": [
       "      New York          Paris         London          Tokyo Rio de Janeiro \n",
       "             8              5              6              5             14 \n",
       "     Cape Town \n",
       "             9 "
      ]
     },
     "metadata": {},
     "output_type": "display_data"
    }
   ],
   "source": [
    "vapply(cities, nchar, FUN.VALUE=numeric(1))"
   ]
  },
  {
   "cell_type": "code",
   "execution_count": 37,
   "metadata": {},
   "outputs": [
    {
     "data": {
      "text/html": [
       "<table>\n",
       "<thead><tr><th></th><th scope=col>New York</th><th scope=col>Paris</th><th scope=col>London</th><th scope=col>Tokyo</th><th scope=col>Rio de Janeiro</th><th scope=col>Cape Town</th></tr></thead>\n",
       "<tbody>\n",
       "\t<tr><th scope=row>first</th><td>e</td><td>a</td><td>d</td><td>k</td><td>a</td><td>a</td></tr>\n",
       "\t<tr><th scope=row>last</th><td>Y</td><td>s</td><td>o</td><td>y</td><td>R</td><td>w</td></tr>\n",
       "</tbody>\n",
       "</table>\n"
      ],
      "text/latex": [
       "\\begin{tabular}{r|llllll}\n",
       "  & New York & Paris & London & Tokyo & Rio de Janeiro & Cape Town\\\\\n",
       "\\hline\n",
       "\tfirst & e & a & d & k & a & a\\\\\n",
       "\tlast & Y & s & o & y & R & w\\\\\n",
       "\\end{tabular}\n"
      ],
      "text/markdown": [
       "\n",
       "| <!--/--> | New York | Paris | London | Tokyo | Rio de Janeiro | Cape Town | \n",
       "|---|---|\n",
       "| first | e | a | d | k | a | a | \n",
       "| last | Y | s | o | y | R | w | \n",
       "\n",
       "\n"
      ],
      "text/plain": [
       "      New York Paris London Tokyo Rio de Janeiro Cape Town\n",
       "first e        a     d      k     a              a        \n",
       "last  Y        s     o      y     R              w        "
      ]
     },
     "metadata": {},
     "output_type": "display_data"
    }
   ],
   "source": [
    "vapply(cities, first_and_last, FUN.VALUE=character(2))"
   ]
  },
  {
   "cell_type": "code",
   "execution_count": null,
   "metadata": {
    "collapsed": true
   },
   "outputs": [],
   "source": []
  }
 ],
 "metadata": {
  "kernelspec": {
   "display_name": "R",
   "language": "R",
   "name": "ir"
  },
  "language_info": {
   "codemirror_mode": "r",
   "file_extension": ".r",
   "mimetype": "text/x-r-source",
   "name": "R",
   "pygments_lexer": "r",
   "version": "3.4.1"
  }
 },
 "nbformat": 4,
 "nbformat_minor": 2
}
