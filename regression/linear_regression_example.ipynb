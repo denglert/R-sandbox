{
 "cells": [
  {
   "cell_type": "markdown",
   "metadata": {},
   "source": [
    "# Simple linear regerssion with R"
   ]
  },
  {
   "cell_type": "markdown",
   "metadata": {},
   "source": [
    "Based on:\n",
    "http://r-statistics.co/Linear-Regression.html"
   ]
  },
  {
   "cell_type": "markdown",
   "metadata": {},
   "source": [
    "## Dataset\n",
    "\n",
    "`cars`"
   ]
  },
  {
   "cell_type": "code",
   "execution_count": 1,
   "metadata": {},
   "outputs": [
    {
     "data": {
      "text/html": [
       "<table>\n",
       "<thead><tr><th scope=col>speed</th><th scope=col>dist</th></tr></thead>\n",
       "<tbody>\n",
       "\t<tr><td>4 </td><td> 2</td></tr>\n",
       "\t<tr><td>4 </td><td>10</td></tr>\n",
       "\t<tr><td>7 </td><td> 4</td></tr>\n",
       "\t<tr><td>7 </td><td>22</td></tr>\n",
       "\t<tr><td>8 </td><td>16</td></tr>\n",
       "\t<tr><td>9 </td><td>10</td></tr>\n",
       "</tbody>\n",
       "</table>\n"
      ],
      "text/latex": [
       "\\begin{tabular}{r|ll}\n",
       " speed & dist\\\\\n",
       "\\hline\n",
       "\t 4  &  2\\\\\n",
       "\t 4  & 10\\\\\n",
       "\t 7  &  4\\\\\n",
       "\t 7  & 22\\\\\n",
       "\t 8  & 16\\\\\n",
       "\t 9  & 10\\\\\n",
       "\\end{tabular}\n"
      ],
      "text/markdown": [
       "\n",
       "speed | dist | \n",
       "|---|---|---|---|---|---|\n",
       "| 4  |  2 | \n",
       "| 4  | 10 | \n",
       "| 7  |  4 | \n",
       "| 7  | 22 | \n",
       "| 8  | 16 | \n",
       "| 9  | 10 | \n",
       "\n",
       "\n"
      ],
      "text/plain": [
       "  speed dist\n",
       "1 4      2  \n",
       "2 4     10  \n",
       "3 7      4  \n",
       "4 7     22  \n",
       "5 8     16  \n",
       "6 9     10  "
      ]
     },
     "metadata": {},
     "output_type": "display_data"
    }
   ],
   "source": [
    "head(cars)"
   ]
  },
  {
   "cell_type": "markdown",
   "metadata": {},
   "source": [
    "## Data exploration"
   ]
  },
  {
   "cell_type": "markdown",
   "metadata": {},
   "source": [
    "### Scatter plot"
   ]
  },
  {
   "cell_type": "code",
   "execution_count": 2,
   "metadata": {},
   "outputs": [
    {
     "data": {
      "image/png": "[encoded data removed]",
      "text/plain": [
       "Plot with title “Dist ~ Speed”"
      ]
     },
     "metadata": {},
     "output_type": "display_data"
    }
   ],
   "source": [
    "scatter.smooth(x=cars$speed, y=cars$dist, main=\"Dist ~ Speed\")"
   ]
  },
  {
   "cell_type": "markdown",
   "metadata": {},
   "source": [
    "### Box plot"
   ]
  },
  {
   "cell_type": "code",
   "execution_count": 19,
   "metadata": {
    "collapsed": true
   },
   "outputs": [],
   "source": [
    "?boxplot"
   ]
  },
  {
   "cell_type": "code",
   "execution_count": 32,
   "metadata": {
    "collapsed": true
   },
   "outputs": [],
   "source": [
    "?boxplot.stats"
   ]
  },
  {
   "cell_type": "markdown",
   "metadata": {},
   "source": [
    "#### IQR = Interquartile range\n",
    "\n",
    "\\begin{equation}\n",
    "    IQR(x)\n",
    "    =\n",
    "    quantile(x, 3/4) - quantile(x, 1/4)\n",
    "\\end{equation}"
   ]
  },
  {
   "cell_type": "code",
   "execution_count": 9,
   "metadata": {},
   "outputs": [
    {
     "data": {
      "text/html": [
       "<dl class=dl-horizontal>\n",
       "\t<dt>25%</dt>\n",
       "\t\t<dd>26</dd>\n",
       "\t<dt>75%</dt>\n",
       "\t\t<dd>56</dd>\n",
       "</dl>\n"
      ],
      "text/latex": [
       "\\begin{description*}\n",
       "\\item[25\\textbackslash{}\\%] 26\n",
       "\\item[75\\textbackslash{}\\%] 56\n",
       "\\end{description*}\n"
      ],
      "text/markdown": [
       "25%\n",
       ":   2675%\n",
       ":   56\n",
       "\n"
      ],
      "text/plain": [
       "25% 75% \n",
       " 26  56 "
      ]
     },
     "metadata": {},
     "output_type": "display_data"
    }
   ],
   "source": [
    "quantile(cars$dist, c(1,3)/4)"
   ]
  },
  {
   "cell_type": "code",
   "execution_count": 18,
   "metadata": {},
   "outputs": [
    {
     "data": {
      "text/html": [
       "30"
      ],
      "text/latex": [
       "30"
      ],
      "text/markdown": [
       "30"
      ],
      "text/plain": [
       "[1] 30"
      ]
     },
     "metadata": {},
     "output_type": "display_data"
    }
   ],
   "source": [
    "stats::IQR(cars$dist)"
   ]
  },
  {
   "cell_type": "code",
   "execution_count": 14,
   "metadata": {
    "collapsed": true
   },
   "outputs": [],
   "source": [
    "?stats::IQR"
   ]
  },
  {
   "cell_type": "code",
   "execution_count": 60,
   "metadata": {},
   "outputs": [
    {
     "data": {
      "text/html": [
       "<dl>\n",
       "\t<dt>$stats</dt>\n",
       "\t\t<dd><ol class=list-inline>\n",
       "\t<li>2</li>\n",
       "\t<li>26</li>\n",
       "\t<li>36</li>\n",
       "\t<li>56</li>\n",
       "\t<li>93</li>\n",
       "</ol>\n",
       "</dd>\n",
       "\t<dt>$n</dt>\n",
       "\t\t<dd>50</dd>\n",
       "\t<dt>$conf</dt>\n",
       "\t\t<dd><ol class=list-inline>\n",
       "\t<li>29.2966277143515</li>\n",
       "\t<li>42.7033722856485</li>\n",
       "</ol>\n",
       "</dd>\n",
       "\t<dt>$out</dt>\n",
       "\t\t<dd>120</dd>\n",
       "</dl>\n"
      ],
      "text/latex": [
       "\\begin{description}\n",
       "\\item[\\$stats] \\begin{enumerate*}\n",
       "\\item 2\n",
       "\\item 26\n",
       "\\item 36\n",
       "\\item 56\n",
       "\\item 93\n",
       "\\end{enumerate*}\n",
       "\n",
       "\\item[\\$n] 50\n",
       "\\item[\\$conf] \\begin{enumerate*}\n",
       "\\item 29.2966277143515\n",
       "\\item 42.7033722856485\n",
       "\\end{enumerate*}\n",
       "\n",
       "\\item[\\$out] 120\n",
       "\\end{description}\n"
      ],
      "text/markdown": [
       "$stats\n",
       ":   1. 2\n",
       "2. 26\n",
       "3. 36\n",
       "4. 56\n",
       "5. 93\n",
       "\n",
       "\n",
       "\n",
       "$n\n",
       ":   50\n",
       "$conf\n",
       ":   1. 29.2966277143515\n",
       "2. 42.7033722856485\n",
       "\n",
       "\n",
       "\n",
       "$out\n",
       ":   120\n",
       "\n",
       "\n"
      ],
      "text/plain": [
       "$stats\n",
       "[1]  2 26 36 56 93\n",
       "\n",
       "$n\n",
       "[1] 50\n",
       "\n",
       "$conf\n",
       "[1] 29.29663 42.70337\n",
       "\n",
       "$out\n",
       "[1] 120\n"
      ]
     },
     "metadata": {},
     "output_type": "display_data"
    }
   ],
   "source": [
    "dist_stats <- boxplot.stats(cars$dist)\n",
    "dist_stats"
   ]
  },
  {
   "cell_type": "code",
   "execution_count": 61,
   "metadata": {},
   "outputs": [
    {
     "data": {
      "text/html": [
       "<ol class=list-inline>\n",
       "\t<li>2</li>\n",
       "\t<li>26</li>\n",
       "\t<li>36</li>\n",
       "\t<li>56</li>\n",
       "\t<li>93</li>\n",
       "</ol>\n"
      ],
      "text/latex": [
       "\\begin{enumerate*}\n",
       "\\item 2\n",
       "\\item 26\n",
       "\\item 36\n",
       "\\item 56\n",
       "\\item 93\n",
       "\\end{enumerate*}\n"
      ],
      "text/markdown": [
       "1. 2\n",
       "2. 26\n",
       "3. 36\n",
       "4. 56\n",
       "5. 93\n",
       "\n",
       "\n"
      ],
      "text/plain": [
       "[1]  2 26 36 56 93"
      ]
     },
     "metadata": {},
     "output_type": "display_data"
    }
   ],
   "source": [
    "dist_stats$stats"
   ]
  },
  {
   "cell_type": "markdown",
   "metadata": {},
   "source": [
    "#### Boxplot: hinges"
   ]
  },
  {
   "cell_type": "markdown",
   "metadata": {},
   "source": [
    "The two ‘hinges’ are versions of the first and third quartile, i.e., close to quantile(x, c(1,3)/4). The hinges equal the quartiles for odd n (where n <- length(x)) and differ for even n. Whereas the quartiles only equal observations for n %% 4 == 1 (n = 1 mod 4), the hinges do so additionally for n %% 4 == 2 (n = 2 mod 4), and are in the middle of two observations otherwise."
   ]
  },
  {
   "cell_type": "code",
   "execution_count": 52,
   "metadata": {},
   "outputs": [
    {
     "data": {
      "text/html": [
       "<strong>25%:</strong> 26"
      ],
      "text/latex": [
       "\\textbf{25\\textbackslash{}\\%:} 26"
      ],
      "text/markdown": [
       "**25%:** 26"
      ],
      "text/plain": [
       "25% \n",
       " 26 "
      ]
     },
     "metadata": {},
     "output_type": "display_data"
    }
   ],
   "source": [
    "distance_lower_hinge <- quantile(cars$dist, 1/4)\n",
    "distance_lower_hinge"
   ]
  },
  {
   "cell_type": "code",
   "execution_count": 53,
   "metadata": {},
   "outputs": [
    {
     "data": {
      "text/html": [
       "<strong>75%:</strong> 56"
      ],
      "text/latex": [
       "\\textbf{75\\textbackslash{}\\%:} 56"
      ],
      "text/markdown": [
       "**75%:** 56"
      ],
      "text/plain": [
       "75% \n",
       " 56 "
      ]
     },
     "metadata": {},
     "output_type": "display_data"
    }
   ],
   "source": [
    "distance_upper_hinge <- quantile(cars$dist, 3/4)\n",
    "distance_upper_hinge"
   ]
  },
  {
   "cell_type": "markdown",
   "metadata": {},
   "source": [
    "#### Boxplot: whiskers"
   ]
  },
  {
   "cell_type": "code",
   "execution_count": 57,
   "metadata": {},
   "outputs": [
    {
     "data": {
      "text/html": [
       "36"
      ],
      "text/latex": [
       "36"
      ],
      "text/markdown": [
       "36"
      ],
      "text/plain": [
       "[1] 36"
      ]
     },
     "metadata": {},
     "output_type": "display_data"
    }
   ],
   "source": [
    "distance_med <- median(cars$dist)\n",
    "distance_med"
   ]
  },
  {
   "cell_type": "code",
   "execution_count": 58,
   "metadata": {},
   "outputs": [
    {
     "data": {
      "text/html": [
       "30"
      ],
      "text/latex": [
       "30"
      ],
      "text/markdown": [
       "30"
      ],
      "text/plain": [
       "[1] 30"
      ]
     },
     "metadata": {},
     "output_type": "display_data"
    }
   ],
   "source": [
    "distance_IQR <- stats::IQR(cars$dist)\n",
    "distance_IQR"
   ]
  },
  {
   "cell_type": "code",
   "execution_count": 59,
   "metadata": {},
   "outputs": [
    {
     "data": {
      "text/html": [
       "<strong>75%:</strong> 101"
      ],
      "text/latex": [
       "\\textbf{75\\textbackslash{}\\%:} 101"
      ],
      "text/markdown": [
       "**75%:** 101"
      ],
      "text/plain": [
       "75% \n",
       "101 "
      ]
     },
     "metadata": {},
     "output_type": "display_data"
    }
   ],
   "source": [
    "distance_upper_whisker <- distance_upper_hinge + 1.5*distance_IQR\n",
    "distance_upper_whisker"
   ]
  },
  {
   "cell_type": "markdown",
   "metadata": {},
   "source": [
    "#### Boxplot: Notches"
   ]
  },
  {
   "cell_type": "markdown",
   "metadata": {},
   "source": [
    "The notches (if requested) extend to +/-1.58 IQR/sqrt(n). This seems to be based on the same calculations as the formula with 1.57 in Chambers et al (1983, p. 62), given in McGill et al (1978, p. 16). They are based on asymptotic normality of the median and roughly equal sample sizes for the two medians being compared, and are said to be rather insensitive to the underlying distributions of the samples. The idea appears to be to give roughly a 95% confidence interval for the difference in two medians."
   ]
  },
  {
   "cell_type": "code",
   "execution_count": 30,
   "metadata": {},
   "outputs": [
    {
     "data": {
      "text/html": [
       "50"
      ],
      "text/latex": [
       "50"
      ],
      "text/markdown": [
       "50"
      ],
      "text/plain": [
       "[1] 50"
      ]
     },
     "metadata": {},
     "output_type": "display_data"
    }
   ],
   "source": [
    "n <- length(cars$dist)\n",
    "n"
   ]
  },
  {
   "cell_type": "code",
   "execution_count": 31,
   "metadata": {},
   "outputs": [
    {
     "data": {
      "text/html": [
       "4.24264068711928"
      ],
      "text/latex": [
       "4.24264068711928"
      ],
      "text/markdown": [
       "4.24264068711928"
      ],
      "text/plain": [
       "[1] 4.242641"
      ]
     },
     "metadata": {},
     "output_type": "display_data"
    }
   ],
   "source": [
    "IQR/sqrt(n)"
   ]
  },
  {
   "cell_type": "markdown",
   "metadata": {},
   "source": [
    "notches"
   ]
  },
  {
   "cell_type": "code",
   "execution_count": 3,
   "metadata": {},
   "outputs": [
    {
     "data": {
      "image/png": "[encoded data removed]",
      "text/plain": [
       "Plot with title “Distance”"
      ]
     },
     "metadata": {},
     "output_type": "display_data"
    }
   ],
   "source": [
    "par(mfrow=c(1, 2))  # divide graph area in 2 columns\n",
    "boxplot(cars$speed, main=\"Speed\", sub=paste(\"Outlier rows: \", boxplot.stats(cars$speed)$out))  # box plot for 'speed'\n",
    "boxplot(cars$dist, main=\"Distance\", sub=paste(\"Outlier rows: \", boxplot.stats(cars$dist)$out))  # box plot for 'distance'"
   ]
  },
  {
   "cell_type": "markdown",
   "metadata": {},
   "source": [
    "### Density plot"
   ]
  },
  {
   "cell_type": "code",
   "execution_count": 62,
   "metadata": {},
   "outputs": [
    {
     "ename": "ERROR",
     "evalue": "Error in library(e1071): there is no package called ‘e1071’\n",
     "output_type": "error",
     "traceback": [
      "Error in library(e1071): there is no package called ‘e1071’\nTraceback:\n",
      "1. library(e1071)",
      "2. stop(txt, domain = NA)"
     ]
    }
   ],
   "source": [
    "library(e1071)\n",
    "par(mfrow=c(1, 2))  # divide graph area in 2 columns\n",
    "plot(density(cars$speed), main=\"Density Plot: Speed\", ylab=\"Frequency\", sub=paste(\"Skewness:\", round(e1071::skewness(cars$speed), 2)))  # density plot for 'speed'\n",
    "polygon(density(cars$speed), col=\"red\")\n",
    "plot(density(cars$dist), main=\"Density Plot: Distance\", ylab=\"Frequency\", sub=paste(\"Skewness:\", round(e1071::skewness(cars$dist), 2)))  # density plot for 'dist'\n",
    "polygon(density(cars$dist), col=\"red\")"
   ]
  },
  {
   "cell_type": "markdown",
   "metadata": {},
   "source": [
    "### Correlation"
   ]
  },
  {
   "cell_type": "code",
   "execution_count": 63,
   "metadata": {},
   "outputs": [
    {
     "data": {
      "text/html": [
       "0.80689490068921"
      ],
      "text/latex": [
       "0.80689490068921"
      ],
      "text/markdown": [
       "0.80689490068921"
      ],
      "text/plain": [
       "[1] 0.8068949"
      ]
     },
     "metadata": {},
     "output_type": "display_data"
    }
   ],
   "source": [
    "cor(cars$speed, cars$dist)"
   ]
  },
  {
   "cell_type": "markdown",
   "metadata": {},
   "source": [
    "## Linear regression"
   ]
  },
  {
   "cell_type": "markdown",
   "metadata": {},
   "source": [
    "Given dataset: ${y_{i}, x_{1}, x_{2}, ..., x_{n}}$\n",
    "\n",
    "### Model\n",
    "\n",
    "\\begin{equation}\n",
    "    y_{i} = \\alpha + \\beta x_{i} + \\epsilon_{i}\n",
    "\\end{equation}\n",
    "\n",
    "where\n",
    "- $y_{i}$: dependent variable\n",
    "- $\\alpha$: intercept term\n",
    "- $x_{i}$: independent variable\n",
    "- $\\beta$: coefficient"
   ]
  },
  {
   "cell_type": "markdown",
   "metadata": {},
   "source": [
    "$t$ statistic generally:\n",
    "\n",
    "\\begin{equation}\n",
    "    \\frac{\\bar{x}-\\mu_{0}}{\\frac{s}{\\sqrt{n}}}\n",
    "\\end{equation}\n",
    "\n",
    "where\n",
    "- $\\hat{x}$: best fit from sample\n",
    "- $x_{0}$: hypothesized true value of the parameter\n",
    "- $s$: standard deviation of $\\hat{x}$\n",
    "\n",
    "\n",
    "In case of linear regression with:\n",
    "- $H_{0}$: there is no correlation between $y$ and "
   ]
  },
  {
   "cell_type": "code",
   "execution_count": 38,
   "metadata": {},
   "outputs": [
    {
     "name": "stdout",
     "output_type": "stream",
     "text": [
      "\n",
      "Call:\n",
      "lm(formula = dist ~ speed, data = cars)\n",
      "\n",
      "Coefficients:\n",
      "(Intercept)        speed  \n",
      "    -17.579        3.932  \n",
      "\n"
     ]
    }
   ],
   "source": [
    "linearMod <- lm(dist ~ speed, data=cars)\n",
    "print(linearMod)"
   ]
  },
  {
   "cell_type": "code",
   "execution_count": 39,
   "metadata": {},
   "outputs": [
    {
     "data": {
      "text/plain": [
       "\n",
       "Call:\n",
       "lm(formula = dist ~ speed, data = cars)\n",
       "\n",
       "Residuals:\n",
       "    Min      1Q  Median      3Q     Max \n",
       "-29.069  -9.525  -2.272   9.215  43.201 \n",
       "\n",
       "Coefficients:\n",
       "            Estimate Std. Error t value Pr(>|t|)    \n",
       "(Intercept) -17.5791     6.7584  -2.601   0.0123 *  \n",
       "speed         3.9324     0.4155   9.464 1.49e-12 ***\n",
       "---\n",
       "Signif. codes:  0 ‘***’ 0.001 ‘**’ 0.01 ‘*’ 0.05 ‘.’ 0.1 ‘ ’ 1\n",
       "\n",
       "Residual standard error: 15.38 on 48 degrees of freedom\n",
       "Multiple R-squared:  0.6511,\tAdjusted R-squared:  0.6438 \n",
       "F-statistic: 89.57 on 1 and 48 DF,  p-value: 1.49e-12\n"
      ]
     },
     "metadata": {},
     "output_type": "display_data"
    }
   ],
   "source": [
    "modelSummary <- summary(linearMod)\n",
    "modelSummary"
   ]
  },
  {
   "cell_type": "code",
   "execution_count": 40,
   "metadata": {},
   "outputs": [
    {
     "data": {
      "text/html": [
       "<table>\n",
       "<thead><tr><th></th><th scope=col>Estimate</th><th scope=col>Std. Error</th><th scope=col>t value</th><th scope=col>Pr(&gt;|t|)</th></tr></thead>\n",
       "<tbody>\n",
       "\t<tr><th scope=row>(Intercept)</th><td>-17.579095  </td><td>6.7584402   </td><td>-2.601058   </td><td>1.231882e-02</td></tr>\n",
       "\t<tr><th scope=row>speed</th><td>  3.932409  </td><td>0.4155128   </td><td> 9.463990   </td><td>1.489836e-12</td></tr>\n",
       "</tbody>\n",
       "</table>\n"
      ],
      "text/latex": [
       "\\begin{tabular}{r|llll}\n",
       "  & Estimate & Std. Error & t value & Pr(>\\textbar{}t\\textbar{})\\\\\n",
       "\\hline\n",
       "\t(Intercept) & -17.579095   & 6.7584402    & -2.601058    & 1.231882e-02\\\\\n",
       "\tspeed &   3.932409   & 0.4155128    &  9.463990    & 1.489836e-12\\\\\n",
       "\\end{tabular}\n"
      ],
      "text/markdown": [
       "\n",
       "| <!--/--> | Estimate | Std. Error | t value | Pr(>|t|) | \n",
       "|---|---|\n",
       "| (Intercept) | -17.579095   | 6.7584402    | -2.601058    | 1.231882e-02 | \n",
       "| speed |   3.932409   | 0.4155128    |  9.463990    | 1.489836e-12 | \n",
       "\n",
       "\n"
      ],
      "text/plain": [
       "            Estimate   Std. Error t value   Pr(>|t|)    \n",
       "(Intercept) -17.579095 6.7584402  -2.601058 1.231882e-02\n",
       "speed         3.932409 0.4155128   9.463990 1.489836e-12"
      ]
     },
     "metadata": {},
     "output_type": "display_data"
    }
   ],
   "source": [
    "modelCoeffs  <- modelSummary$coefficients  # model coefficients\n",
    "modelCoeffs"
   ]
  },
  {
   "cell_type": "code",
   "execution_count": 41,
   "metadata": {},
   "outputs": [
    {
     "data": {
      "text/html": [
       "3.93240875912408"
      ],
      "text/latex": [
       "3.93240875912408"
      ],
      "text/markdown": [
       "3.93240875912408"
      ],
      "text/plain": [
       "[1] 3.932409"
      ]
     },
     "metadata": {},
     "output_type": "display_data"
    }
   ],
   "source": [
    "beta.estimate <- modelCoeffs[\"speed\", \"Estimate\"]\n",
    "beta.estimate"
   ]
  },
  {
   "cell_type": "code",
   "execution_count": 42,
   "metadata": {},
   "outputs": [
    {
     "data": {
      "text/html": [
       "0.415512776657122"
      ],
      "text/latex": [
       "0.415512776657122"
      ],
      "text/markdown": [
       "0.415512776657122"
      ],
      "text/plain": [
       "[1] 0.4155128"
      ]
     },
     "metadata": {},
     "output_type": "display_data"
    }
   ],
   "source": [
    "std.error <- modelCoeffs[\"speed\", \"Std. Error\"]\n",
    "std.error"
   ]
  },
  {
   "cell_type": "markdown",
   "metadata": {},
   "source": [
    "\\begin{equation}\n",
    "    t\n",
    "    =\n",
    "    \\frac{\\hat{\\beta}-\\beta_{H_{0}}}{\\sigma_{\\hat{\\beta}}}\n",
    "    =\n",
    "    \\frac{\\hat{\\beta}-0}{\\sigma_{\\hat{\\beta}}}\n",
    "    =\n",
    "    \\frac{\\hat{\\beta}}{\\sigma_{\\hat{\\beta}}}\n",
    "\\end{equation}"
   ]
  },
  {
   "cell_type": "code",
   "execution_count": 43,
   "metadata": {},
   "outputs": [
    {
     "data": {
      "text/html": [
       "9.46398999029837"
      ],
      "text/latex": [
       "9.46398999029837"
      ],
      "text/markdown": [
       "9.46398999029837"
      ],
      "text/plain": [
       "[1] 9.46399"
      ]
     },
     "metadata": {},
     "output_type": "display_data"
    }
   ],
   "source": [
    "t_value <- beta.estimate/std.error\n",
    "t_value"
   ]
  },
  {
   "cell_type": "markdown",
   "metadata": {},
   "source": [
    "### `pt()` documentation\n",
    "\n",
    "**The Student t Distribution**\n",
    "\n",
    "**Description**\n",
    "\n",
    "Density, distribution function, quantile function and random generation for the t distribution with `df` degrees of freedom (and optional non-centrality parameter `ncp`).\n",
    "\n",
    "**Usage:**\n",
    "~~~~\n",
    "dt(x, df, ncp, log = FALSE)\n",
    "pt(q, df, ncp, lower.tail = TRUE, log.p = FALSE)\n",
    "qt(p, df, ncp, lower.tail = TRUE, log.p = FALSE)\n",
    "rt(n, df, ncp)\n",
    "~~~~\n",
    "\n",
    "**Arguments:**\n",
    "- `x`, `q`: vector of quantiles.\n",
    "- `p`: vector of probabilities.\n",
    "- `n`:\t number of observations. If length(n) > 1, the length is taken to be the number required.\n",
    "- `df`:\t degrees of freedom (> 0, maybe non-integer). `df= Inf` is allowed.\n",
    "- `ncp`: non-centrality parameter delta; currently except for rt(), only for abs(ncp) <= 37.62. If omitted, use the central t distribution.\n",
    "- `log`, `log.p`: logical; if TRUE, probabilities p are given as log(p).\n",
    "- `lower.tail`: logical; if TRUE (default), probabilities are P[X ≤ x], otherwise, P[X > x].\n",
    "\n",
    "**Value**\n",
    "\n",
    "`dt` gives the density, `pt` gives the distribution function, `qt` gives the quantile function, and `rt` generates random deviates.\n",
    "\n",
    "Invalid arguments will result in return value NaN, with a warning.\n",
    "\n",
    "The length of the result is determined by `n` for `rt`, and is the maximum of the lengths of the numerical arguments for the other functions.\n",
    "\n",
    "The numerical arguments other than n are recycled to the length of the result. Only the first elements of the logical arguments are used."
   ]
  },
  {
   "cell_type": "code",
   "execution_count": 44,
   "metadata": {
    "collapsed": true
   },
   "outputs": [],
   "source": [
    "?pt"
   ]
  },
  {
   "cell_type": "markdown",
   "metadata": {},
   "source": [
    "\\begin{equation}\n",
    "    \\text{p-value}\n",
    "    = \n",
    "    2 ~ CDF_{\\text{t-statistic}}[-t, df=n_{samples}-n_{par}]\n",
    "\\end{equation}"
   ]
  },
  {
   "cell_type": "markdown",
   "metadata": {},
   "source": [
    "### p-value"
   ]
  },
  {
   "cell_type": "code",
   "execution_count": 45,
   "metadata": {},
   "outputs": [
    {
     "data": {
      "text/html": [
       "1.4898364962951e-12"
      ],
      "text/latex": [
       "1.4898364962951e-12"
      ],
      "text/markdown": [
       "1.4898364962951e-12"
      ],
      "text/plain": [
       "[1] 1.489836e-12"
      ]
     },
     "metadata": {},
     "output_type": "display_data"
    }
   ],
   "source": [
    "p_value <- 2*pt(-abs(t_value), df=nrow(cars)-ncol(cars))\n",
    "p_value"
   ]
  },
  {
   "cell_type": "code",
   "execution_count": 50,
   "metadata": {},
   "outputs": [
    {
     "data": {
      "text/plain": [
       "\n",
       "Call:\n",
       "lm(formula = dist ~ speed, data = cars)\n",
       "\n",
       "Coefficients:\n",
       "(Intercept)        speed  \n",
       "    -17.579        3.932  \n"
      ]
     },
     "metadata": {},
     "output_type": "display_data"
    }
   ],
   "source": [
    "linearMod"
   ]
  },
  {
   "cell_type": "code",
   "execution_count": 52,
   "metadata": {},
   "outputs": [
    {
     "data": {
      "text/html": [
       "<dl class=dl-horizontal>\n",
       "\t<dt>value</dt>\n",
       "\t\t<dd>89.5671065364677</dd>\n",
       "\t<dt>numdf</dt>\n",
       "\t\t<dd>1</dd>\n",
       "\t<dt>dendf</dt>\n",
       "\t\t<dd>48</dd>\n",
       "</dl>\n"
      ],
      "text/latex": [
       "\\begin{description*}\n",
       "\\item[value] 89.5671065364677\n",
       "\\item[numdf] 1\n",
       "\\item[dendf] 48\n",
       "\\end{description*}\n"
      ],
      "text/markdown": [
       "value\n",
       ":   89.5671065364677numdf\n",
       ":   1dendf\n",
       ":   48\n",
       "\n"
      ],
      "text/plain": [
       "   value    numdf    dendf \n",
       "89.56711  1.00000 48.00000 "
      ]
     },
     "metadata": {},
     "output_type": "display_data"
    }
   ],
   "source": [
    "f <- summary(linearMod)$fstatistic  # parameters for model p-value calc\n",
    "f"
   ]
  },
  {
   "cell_type": "code",
   "execution_count": 24,
   "metadata": {},
   "outputs": [
    {
     "data": {
      "text/html": [
       "<strong>value:</strong> 1.48983649629509e-12"
      ],
      "text/latex": [
       "\\textbf{value:} 1.48983649629509e-12"
      ],
      "text/markdown": [
       "**value:** 1.48983649629509e-12"
      ],
      "text/plain": [
       "       value \n",
       "1.489836e-12 "
      ]
     },
     "metadata": {},
     "output_type": "display_data"
    }
   ],
   "source": [
    "model_p <- pf(f[1], f[2], f[3], lower=FALSE)\n",
    "model_p"
   ]
  },
  {
   "cell_type": "markdown",
   "metadata": {},
   "source": [
    "### $R^{2}$ (coefficient of determination)"
   ]
  },
  {
   "cell_type": "markdown",
   "metadata": {},
   "source": [
    "Proportion of the variance in the dependent variable that is predictable from the independent variable(s)."
   ]
  },
  {
   "cell_type": "markdown",
   "metadata": {},
   "source": [
    "\\begin{equation}\n",
    "    R^{2}\n",
    "    =\n",
    "    1 - \\frac{\\sum_{i} (y_{i} - \\hat{y}_{i})^{2} }{ \\sum_{i} (y_{i} - \\bar{y})^{2}}\n",
    "\\end{equation}\n",
    "\n",
    "\n",
    "\\begin{equation}\n",
    "    R^{2}\n",
    "    =\n",
    "    1 - FVU\n",
    "\\end{equation}\n",
    "\n",
    "$FVU$: fraction of unexplained variance\n",
    "\n",
    "\\begin{equation}\n",
    "    FVU\n",
    "    =\n",
    "    \\frac{\\sum_{i} (y_{i} - \\hat{y}_{i})^{2} }{ \\sum_{i} (y_{i} - \\bar{y})^{2}}\n",
    "\\end{equation}\n",
    "\n",
    "\\begin{equation}\n",
    "    R^{2}\n",
    "    =\n",
    "    FVE\n",
    "\\end{equation}\n",
    "\n",
    "$FVU$: fraction of explained variance\n",
    "\n",
    "Features of $R^{2}$:\n",
    "- adding more $\\beta_{i} X_{i}$ pairs decreases the unexplained variance through better (over)fitting which increases $R^{2}$"
   ]
  },
  {
   "cell_type": "markdown",
   "metadata": {},
   "source": [
    "### $R^{2}_{adj}$ (adjusted $R^{2}$)"
   ]
  },
  {
   "cell_type": "markdown",
   "metadata": {},
   "source": [
    "\\begin{equation}\n",
    "    R^{2}_{adj}\n",
    "    =\n",
    "    1\n",
    "    -\n",
    "    \\frac{ \\frac{\\sum_{i} (y_{i} - \\hat{y}_{i})^{2}}{n-1} }\n",
    "    { \\frac{\\sum_{i} (y_{i} - \\bar{y})^{2}}{n-1}  }\n",
    "\\end{equation}\n",
    "\n",
    "where\n",
    "- $n$: number of observations\n",
    "- $q$: number of coefficients"
   ]
  },
  {
   "cell_type": "markdown",
   "metadata": {},
   "source": [
    "### AIC (Akaike's information criterion)"
   ]
  },
  {
   "cell_type": "markdown",
   "metadata": {},
   "source": [
    "\\begin{equation}\n",
    "    AIC = -2 \\log \\mathcal{L}_{max} + 2 ~ k\n",
    "\\end{equation}\n",
    "\n",
    "where\n",
    "- $\\mathcal{L}$: likelihood function\n",
    "- $k$: number of model parameters"
   ]
  },
  {
   "cell_type": "code",
   "execution_count": 55,
   "metadata": {
    "collapsed": true
   },
   "outputs": [],
   "source": [
    "?AIC"
   ]
  },
  {
   "cell_type": "code",
   "execution_count": 54,
   "metadata": {},
   "outputs": [
    {
     "data": {
      "text/html": [
       "419.156863027353"
      ],
      "text/latex": [
       "419.156863027353"
      ],
      "text/markdown": [
       "419.156863027353"
      ],
      "text/plain": [
       "[1] 419.1569"
      ]
     },
     "metadata": {},
     "output_type": "display_data"
    }
   ],
   "source": [
    "aic <- AIC(linearMod)\n",
    "aic"
   ]
  },
  {
   "cell_type": "markdown",
   "metadata": {},
   "source": [
    "### BIC (Bayesian information criterion)"
   ]
  },
  {
   "cell_type": "markdown",
   "metadata": {},
   "source": [
    "\\begin{equation}\n",
    "    BIC\n",
    "    =\n",
    "    -2 \\log \\mathcal{L}_{max} + k \\log n\n",
    "\\end{equation}\n",
    "\n",
    "where\n",
    "- $\\mathcal{L}$: likelihood function\n",
    "- $k$: number of model parameters\n",
    "- $n$: sampe size"
   ]
  },
  {
   "cell_type": "code",
   "execution_count": 56,
   "metadata": {
    "collapsed": true
   },
   "outputs": [],
   "source": [
    "?BIC"
   ]
  },
  {
   "cell_type": "code",
   "execution_count": 57,
   "metadata": {},
   "outputs": [
    {
     "data": {
      "text/html": [
       "424.892932043638"
      ],
      "text/latex": [
       "424.892932043638"
      ],
      "text/markdown": [
       "424.892932043638"
      ],
      "text/plain": [
       "[1] 424.8929"
      ]
     },
     "metadata": {},
     "output_type": "display_data"
    }
   ],
   "source": [
    "bic <- BIC(linearMod)\n",
    "bic"
   ]
  }
 ],
 "metadata": {
  "kernelspec": {
   "display_name": "R",
   "language": "R",
   "name": "ir"
  },
  "language_info": {
   "codemirror_mode": "r",
   "file_extension": ".r",
   "mimetype": "text/x-r-source",
   "name": "R",
   "pygments_lexer": "r",
   "version": "3.4.1"
  }
 },
 "nbformat": 4,
 "nbformat_minor": 2
}
